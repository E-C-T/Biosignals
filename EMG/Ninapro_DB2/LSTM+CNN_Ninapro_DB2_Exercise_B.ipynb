{
  "cells": [
    {
      "cell_type": "code",
      "execution_count": 1,
      "metadata": {
        "colab": {
          "base_uri": "https://localhost:8080/"
        },
        "id": "F78SKzD-Rufy",
        "outputId": "336635a8-bbff-48bb-a863-3a7b0ea23353"
      },
      "outputs": [
        {
          "name": "stdout",
          "output_type": "stream",
          "text": [
            "Drive already mounted at /content/drive; to attempt to forcibly remount, call drive.mount(\"/content/drive\", force_remount=True).\n"
          ]
        }
      ],
      "source": [
        "from google.colab import drive\n",
        "drive.mount('/content/drive')"
      ]
    },
    {
      "cell_type": "markdown",
      "metadata": {
        "id": "G8OKfJ6Ma3hp"
      },
      "source": [
        "# Packages\n",
        " * Not all packages are used, but some might be useful for testing"
      ]
    },
    {
      "cell_type": "code",
      "execution_count": 2,
      "metadata": {
        "colab": {
          "base_uri": "https://localhost:8080/"
        },
        "id": "8BRySuQVRofU",
        "outputId": "46a0ecde-82ef-4498-d557-b1c54d83041b"
      },
      "outputs": [
        {
          "name": "stdout",
          "output_type": "stream",
          "text": [
            "Requirement already satisfied: pip in /usr/local/lib/python3.10/dist-packages (23.1.2)\n",
            "Requirement already satisfied: install in /usr/local/lib/python3.10/dist-packages (1.3.5)\n",
            "Requirement already satisfied: sklearn==0.0 in /usr/local/lib/python3.10/dist-packages (0.0)\n",
            "Requirement already satisfied: scikit-learn in /usr/local/lib/python3.10/dist-packages (from sklearn==0.0) (1.2.2)\n",
            "Requirement already satisfied: numpy>=1.17.3 in /usr/local/lib/python3.10/dist-packages (from scikit-learn->sklearn==0.0) (1.25.2)\n",
            "Requirement already satisfied: scipy>=1.3.2 in /usr/local/lib/python3.10/dist-packages (from scikit-learn->sklearn==0.0) (1.11.4)\n",
            "Requirement already satisfied: joblib>=1.1.1 in /usr/local/lib/python3.10/dist-packages (from scikit-learn->sklearn==0.0) (1.3.2)\n",
            "Requirement already satisfied: threadpoolctl>=2.0.0 in /usr/local/lib/python3.10/dist-packages (from scikit-learn->sklearn==0.0) (3.3.0)\n",
            "Requirement already satisfied: nina-helper in /usr/local/lib/python3.10/dist-packages (2.4)\n",
            "Requirement already satisfied: numpy in /usr/local/lib/python3.10/dist-packages (from nina-helper) (1.25.2)\n",
            "Requirement already satisfied: scipy in /usr/local/lib/python3.10/dist-packages (from nina-helper) (1.11.4)\n",
            "Requirement already satisfied: sklearn in /usr/local/lib/python3.10/dist-packages (from nina-helper) (0.0)\n",
            "Requirement already satisfied: scikit-learn in /usr/local/lib/python3.10/dist-packages (from sklearn->nina-helper) (1.2.2)\n",
            "Requirement already satisfied: joblib>=1.1.1 in /usr/local/lib/python3.10/dist-packages (from scikit-learn->sklearn->nina-helper) (1.3.2)\n",
            "Requirement already satisfied: threadpoolctl>=2.0.0 in /usr/local/lib/python3.10/dist-packages (from scikit-learn->sklearn->nina-helper) (3.3.0)\n",
            "Requirement already satisfied: PyWavelets in /usr/local/lib/python3.10/dist-packages (1.5.0)\n",
            "Requirement already satisfied: numpy<2.0,>=1.22.4 in /usr/local/lib/python3.10/dist-packages (from PyWavelets) (1.25.2)\n",
            "Requirement already satisfied: scikit-optimize in /usr/local/lib/python3.10/dist-packages (0.9.0)\n",
            "Requirement already satisfied: joblib>=0.11 in /usr/local/lib/python3.10/dist-packages (from scikit-optimize) (1.3.2)\n",
            "Requirement already satisfied: pyaml>=16.9 in /usr/local/lib/python3.10/dist-packages (from scikit-optimize) (23.12.0)\n",
            "Requirement already satisfied: numpy>=1.13.3 in /usr/local/lib/python3.10/dist-packages (from scikit-optimize) (1.25.2)\n",
            "Requirement already satisfied: scipy>=0.19.1 in /usr/local/lib/python3.10/dist-packages (from scikit-optimize) (1.11.4)\n",
            "Requirement already satisfied: scikit-learn>=0.20.0 in /usr/local/lib/python3.10/dist-packages (from scikit-optimize) (1.2.2)\n",
            "Requirement already satisfied: PyYAML in /usr/local/lib/python3.10/dist-packages (from pyaml>=16.9->scikit-optimize) (6.0.1)\n",
            "Requirement already satisfied: threadpoolctl>=2.0.0 in /usr/local/lib/python3.10/dist-packages (from scikit-learn>=0.20.0->scikit-optimize) (3.3.0)\n"
          ]
        }
      ],
      "source": [
        "%pip install pip install sklearn==0.0\n",
        "%pip install nina-helper\n",
        "%pip install PyWavelets\n",
        "%pip install scikit-optimize"
      ]
    },
    {
      "cell_type": "code",
      "execution_count": 3,
      "metadata": {
        "id": "Ac-TjI1vSQjI"
      },
      "outputs": [],
      "source": [
        "from functools import reduce\n",
        "from IPython.utils import io\n",
        "from itertools import cycle\n",
        "import joblib\n",
        "import matplotlib.pyplot as plt\n",
        "#from nina_helper import *\n",
        "import nina_helper\n",
        "import numpy as np\n",
        "import os\n",
        "import pandas as pd\n",
        "from pywt import *\n",
        "from scipy.io import loadmat\n",
        "from scipy import signal, interp\n",
        "import scipy as sp\n",
        "import seaborn as sns\n",
        "from sklearn import svm, metrics\n",
        "from sklearn.datasets import load_digits\n",
        "from sklearn.decomposition import PCA\n",
        "from sklearn.discriminant_analysis import LinearDiscriminantAnalysis\n",
        "from sklearn.ensemble import RandomForestClassifier\n",
        "from sklearn.metrics import confusion_matrix, classification_report, roc_curve, auc, roc_auc_score, balanced_accuracy_score, accuracy_score\n",
        "from sklearn.model_selection import train_test_split, StratifiedKFold, cross_val_score, GridSearchCV, ShuffleSplit, learning_curve, validation_curve\n",
        "from sklearn.multiclass import OneVsRestClassifier\n",
        "from sklearn.preprocessing import StandardScaler, label_binarize\n",
        "from skopt import BayesSearchCV\n",
        "\n",
        "import tensorflow as tf\n",
        "from tensorflow.keras.callbacks import EarlyStopping, ModelCheckpoint\n",
        "from tensorflow.keras.layers import Input, Flatten, Dense, Conv1D, Conv2D, BatchNormalization, MaxPooling1D, MaxPooling2D, ReLU, ELU, LeakyReLU, PReLU, Dropout,LSTM, Bidirectional,BatchNormalization,Reshape\n",
        "from tensorflow.keras.models import Model, load_model, Sequential\n",
        "from tensorflow.keras.optimizers import Adam\n",
        "import tensorboard"
      ]
    },
    {
      "cell_type": "markdown",
      "metadata": {
        "id": "l0iFLXOxdvGZ"
      },
      "source": [
        "# Preprocessing Functions"
      ]
    },
    {
      "cell_type": "code",
      "execution_count": 4,
      "metadata": {
        "id": "NGnRTQE180g1"
      },
      "outputs": [],
      "source": [
        "# from nina_helper\n",
        "def get_idxs(in_array, to_find):\n",
        "    \"\"\"Utility function for finding the positions of observations of one array in another an array.\n",
        "\n",
        "    Args:\n",
        "        in_array (array): Array in which to locate elements of to_find\n",
        "        to_find (array): Array of elements to locate in in_array\n",
        "\n",
        "    Returns:\n",
        "        TYPE: Indices of all elements of to_find in in_array\n",
        "    \"\"\"\n",
        "    targets = ([np.where(in_array == x) for x in to_find])\n",
        "    return np.squeeze(np.concatenate(targets, axis=1))"
      ]
    },
    {
      "cell_type": "code",
      "execution_count": 5,
      "metadata": {
        "id": "SZJFEZ2fw51k"
      },
      "outputs": [],
      "source": [
        "def get_percent_reps(df):\n",
        "    df['new_index'] = df.groupby(['gesture', 'reps']).cumcount()\n",
        "    df['%rep'] = df.groupby(['gesture', 'reps'])['new_index'].transform(lambda x: (x / x.max()) * 100)\n",
        "    return df\n",
        "\n",
        "def get_percent_reps_idx(emg_data, reps, movements, train_reps,test_reps, which_moves, train_percent_reps = [0.0,20.0], test_percent_reps=[0.0,20.0]):\n",
        "  combined_data = pd.DataFrame(emg_data)\n",
        "  combined_data['reps'] = reps\n",
        "  combined_data['gesture'] = movements\n",
        "  all_reps = [1,2,3,4,5,6]\n",
        "\n",
        "  # Select only desired gestures and train reps\n",
        "  combined_data=combined_data.iloc[np.where(combined_data.gesture.isin(which_moves))]\n",
        "  combined_data=combined_data.iloc[np.where(combined_data.reps.isin(all_reps))]\n",
        "\n",
        "  # Sort data frame based on gestures and reps\n",
        "  df=combined_data.sort_values(by = ['gesture','reps'])\n",
        "  df=df.reset_index()\n",
        "\n",
        "  # Add the % of each sample for its repetition\n",
        "  df=get_percent_reps(df)\n",
        "\n",
        "  # Select desired percentage of repetitions\n",
        "\n",
        "  train_targets = (df['%rep'] >= train_percent_reps[0]) & (df['%rep'] <= train_percent_reps[1]) & (df.reps.isin(train_reps))\n",
        "  test_targets = (df['%rep'] >= test_percent_reps[0]) & (df['%rep'] <= test_percent_reps[1]) & (df.reps.isin(test_reps))\n",
        "\n",
        "  all_targets = train_targets+test_targets\n",
        "  target_frame = df[all_targets]\n",
        "  target_mat = target_frame.to_numpy()\n",
        "  percent_data_idx = target_mat[:,0].astype(int)\n",
        "\n",
        "\n",
        "  return percent_data_idx\n"
      ]
    },
    {
      "cell_type": "code",
      "execution_count": 6,
      "metadata": {
        "id": "wv4OHXU3QPZf"
      },
      "outputs": [],
      "source": [
        "def filter_data(data, f, butterworth_order = 4, btype='lowpass', fs=2000):\n",
        "  nyquist = fs / 2\n",
        "  if isinstance(f, int):\n",
        "      fc = f / nyquist\n",
        "  else:\n",
        "      fc = [freq / nyquist for freq in f]\n",
        "  b, a = signal.butter(butterworth_order, fc, btype=btype)\n",
        "\n",
        "  # Applying the filter along each channel (zero-phase filtering)\n",
        "  filtered = signal.filtfilt(b, a, data, axis=0)\n",
        "  # signal.lfilter could be used, but introduces phase distortion due to its forward-only processing\n",
        "\n",
        "  return filtered"
      ]
    },
    {
      "cell_type": "code",
      "execution_count": 7,
      "metadata": {
        "id": "bH0AUFvRS6P9"
      },
      "outputs": [],
      "source": [
        "def notch_filter(data, f0, Q, fs=2000):\n",
        "  b, a = signal.iirnotch(f0, Q, fs)\n",
        "\n",
        "  # Applying the filter along each channel (zero-phase filtering)\n",
        "  filtered = signal.filtfilt(b, a, data, axis=0)\n",
        "  # signal.lfilter could be used, but introduces phase distortion due to its forward-only processing\n",
        "\n",
        "  return filtered"
      ]
    },
    {
      "cell_type": "code",
      "execution_count": 8,
      "metadata": {
        "id": "O86fcJWk83lJ"
      },
      "outputs": [],
      "source": [
        "# from nina_helper\n",
        "def normalise_emg(emg, reps, train_reps, movements=None, which_moves=None):\n",
        "    \"\"\"Preprocess train+test data to mean 0, std 1 based on training data only.\n",
        "\n",
        "    Args:\n",
        "        emg (array): Raw EMG data\n",
        "        reps (array): Corresponding repetition information for each EMG observation\n",
        "        train_reps (array): Which repetitions are in the training set\n",
        "        movements (array, optional): Movement labels, required if using which_moves\n",
        "        which_moves (array, optional): Which movements to return - if None use all\n",
        "\n",
        "    Returns:\n",
        "        array: Rescaled EMG data\n",
        "    \"\"\"\n",
        "    train_targets = get_idxs(reps, train_reps)\n",
        "\n",
        "    # Keep only selected movement(s)\n",
        "    if which_moves is not None and movements is not None:\n",
        "        move_targets = get_idxs(movements[train_targets], which_moves)\n",
        "        train_targets = train_targets[move_targets]\n",
        "\n",
        "    scaler = StandardScaler(with_mean=True,\n",
        "                            with_std=True,\n",
        "                            copy=False).fit(emg[train_targets, :])\n",
        "\n",
        "    return scaler.transform(emg)"
      ]
    },
    {
      "cell_type": "code",
      "execution_count": 9,
      "metadata": {
        "id": "2aC0Nk_f9IMj"
      },
      "outputs": [],
      "source": [
        "# Adapted from nina_helper\n",
        "def get_windows(which_reps, window_len, window_inc, emg, movements, repetitons, which_moves=None, dtype=np.float32):\n",
        "    \"\"\"Get set of windows based on repetition and movement criteria and associated label + repetition data.\n",
        "    Args:\n",
        "        which_reps (array): Which repetitions to return\n",
        "        window_len (int): Desired window length\n",
        "        window_inc (int): Desired window increment\n",
        "        emg (array): EMG data (should be normalise beforehand)\n",
        "        movements (array): Movement labels\n",
        "        repetitons (array): Repetition labels\n",
        "        which_moves (array, optional): Which movements to return - if None use all\n",
        "        dtype (TYPE, optional): What precision to use for EMG data\n",
        "    Returns:\n",
        "        X_data (array): Windowed EMG data\n",
        "        Y_data (array): Movement label for each window\n",
        "        R_data (array): Repetition label for each window\n",
        "    \"\"\"\n",
        "    nb_obs = emg.shape[0]\n",
        "    nb_channels = emg.shape[1]\n",
        "\n",
        "    # All possible window end locations given an increment size\n",
        "    possible_targets = np.array(range(window_len - 1, nb_obs, window_inc))\n",
        "\n",
        "    targets = get_idxs(repetitons[possible_targets], which_reps)\n",
        "\n",
        "    # Re-adjust back to original range (for indexinging into rep/move)\n",
        "    targets = (window_len - 1) + targets * window_inc\n",
        "\n",
        "    # Keep only selected movement(s)\n",
        "    if which_moves is not None:\n",
        "        move_targets = get_idxs(movements[targets], which_moves)\n",
        "        targets = targets[move_targets]\n",
        "\n",
        "    X_data = np.zeros([targets.shape[0], window_len, nb_channels],\n",
        "                      dtype=dtype)\n",
        "    Y_data = np.zeros([targets.shape[0], ], dtype=np.int8)\n",
        "    R_data = np.zeros([targets.shape[0], ], dtype=np.int8)\n",
        "\n",
        "    valid_inds = []\n",
        "    for i, win_end in enumerate(targets):\n",
        "        win_start = win_end - (window_len - 1)\n",
        "        if movements[win_start] == movements[win_end]:\n",
        "            X_data[i, ...] = emg[win_start:win_end + 1, :]  # Include end\n",
        "            Y_data[i] = movements[win_end]\n",
        "            R_data[i] = repetitons[win_end]\n",
        "            valid_inds.append(i)\n",
        "\n",
        "    return X_data[np.array(valid_inds)], Y_data[np.array(valid_inds)], R_data[np.array(valid_inds)]"
      ]
    },
    {
      "cell_type": "code",
      "execution_count": 10,
      "metadata": {
        "id": "m4XHbNuG0VdU"
      },
      "outputs": [],
      "source": [
        "def get_categorical(y):\n",
        "    return pd.get_dummies(pd.Series(y)).values"
      ]
    },
    {
      "cell_type": "markdown",
      "metadata": {
        "id": "o9OBDn4DOFas"
      },
      "source": [
        "# Model and Training Functions"
      ]
    },
    {
      "cell_type": "code",
      "execution_count": 11,
      "metadata": {
        "id": "Tr0mkteaOIug"
      },
      "outputs": [],
      "source": [
        "def LSTM_base(X_train, num_classes = 17):\n",
        "\n",
        "  inputs = Input(shape=(X_train.shape[1], X_train.shape[2]))\n",
        "\n",
        "  #LSTM Block\n",
        "  LSTM_1 = LSTM(128, dropout=0.4, return_sequences=True,return_state=True)(inputs)\n",
        "  LSTM_2 = LSTM(128, dropout=0.4, return_sequences=True,return_state=True)(LSTM_1)\n",
        "  LSTM_3 = LSTM(128, dropout=0.4, return_sequences=True,return_state=True)(LSTM_2)\n",
        "  LSTM_4, state_h, state_c  = LSTM(128, dropout=0.4,return_state=True)(LSTM_3)\n",
        "\n",
        "  #classifer block\n",
        "  Dense_1 = Dense(64, activation = 'tanh')(state_h)\n",
        "  dropout_1 = Dropout(0.2)(Dense_1)\n",
        "  Dense_2 = Dense(32, activation = 'tanh')(dropout_1)\n",
        "  dropout_2 = Dropout(0.2)(Dense_2)\n",
        "  Predictions = Dense(num_classes, activation = 'softmax')(dropout_2)\n",
        "\n",
        "  model = Model(inputs=inputs,\n",
        "                outputs=Predictions,\n",
        "                name=\"LSTM_base\")\n",
        "\n",
        "  return model"
      ]
    },
    {
      "cell_type": "code",
      "execution_count": 12,
      "metadata": {
        "id": "oUSQZM3MeQIr"
      },
      "outputs": [],
      "source": [
        "def LSTM_hybrid(X_train, num_classes = 17):\n",
        "\n",
        "  inputs = Input(shape=(X_train.shape[1], X_train.shape[2]))\n",
        "\n",
        "  #LSTM Block\n",
        "  LSTM_1 = LSTM(128, dropout=0.4, return_sequences=True,return_state=True)(inputs)\n",
        "  LSTM_2 = LSTM(128, dropout=0.4, return_sequences=True,return_state=True)(LSTM_1)\n",
        "  LSTM_3 = LSTM(128, dropout=0.4, return_sequences=True,return_state=True)(LSTM_2)\n",
        "  LSTM_4, state_h, state_c  = LSTM(128, dropout=0.4,return_state=True)(LSTM_3)\n",
        "\n",
        "  reshape = Reshape((128,1))(state_h)\n",
        "\n",
        "  #CNN Block\n",
        "  CNN_1 = Conv1D(32,kernel_size=(5),input_shape=(128,1))(reshape)\n",
        "  bn_1 = BatchNormalization()(CNN_1)\n",
        "  activation_1 = PReLU()(bn_1)\n",
        "\n",
        "  CNN_2 = Conv1D(64,kernel_size=(5),dilation_rate=2)(activation_1)\n",
        "  bn_2 = BatchNormalization()(CNN_2)\n",
        "  activation_2 = PReLU()(bn_2)\n",
        "\n",
        "  CNN_3 = Conv1D(64,kernel_size=(5),dilation_rate=4)(activation_2)\n",
        "  bn_3 = BatchNormalization()(CNN_3)\n",
        "  activation_3 = PReLU()(bn_3)\n",
        "\n",
        "  CNN_4 = Conv1D(128,kernel_size=(5),dilation_rate=8)(activation_3)\n",
        "  bn_4 = BatchNormalization()(CNN_4)\n",
        "  activation_4 = PReLU()(bn_4)\n",
        "\n",
        "  CNN_5 = Conv1D(128,kernel_size=(5),dilation_rate=8)(activation_4)\n",
        "  bn_5 = BatchNormalization()(CNN_5)\n",
        "  activation_5 = PReLU()(bn_5)\n",
        "\n",
        "  CNN_6 = Conv1D(256,kernel_size=(5),dilation_rate=8)(activation_5)\n",
        "  bn_6 = BatchNormalization()(CNN_6)\n",
        "  activation_6 = PReLU()(bn_6)\n",
        "\n",
        "  CNN_7 = Conv1D(256,kernel_size=(4))(activation_6)\n",
        "  bn_7 = BatchNormalization()(CNN_7)\n",
        "  activation_7 = PReLU()(bn_7)\n",
        "\n",
        "  #classifer block\n",
        "  flat = Flatten()(activation_7)\n",
        "  Dense_1 = Dense(64, activation = 'tanh')(flat)\n",
        "  dropout_1 = Dropout(0.2)(Dense_1)\n",
        "  Dense_2 = Dense(32, activation = 'tanh')(dropout_1)\n",
        "  dropout_2 = Dropout(0.2)(Dense_2)\n",
        "  Predictions = Dense(num_classes, activation = 'softmax')(dropout_2)\n",
        "\n",
        "  model = Model(inputs=inputs,\n",
        "                outputs=Predictions,\n",
        "                name=\"LSTM_hybrid\")\n",
        "\n",
        "  return model"
      ]
    },
    {
      "cell_type": "code",
      "execution_count": 13,
      "metadata": {
        "id": "-ZpmhRxw_bGy"
      },
      "outputs": [],
      "source": [
        "def create_compiled_model(X_train, y_train, initial_learning_rate, selected_model = \"LSTM_base\"):\n",
        "  num_classes = y_train.shape[1]\n",
        "  if selected_model == \"LSTM_base\":\n",
        "    model = LSTM_base(X_train, num_classes)\n",
        "  elif selected_model == \"LSTM_hybrid\":\n",
        "    model = LSTM_hybrid(X_train, num_classes)\n",
        "  else:\n",
        "    print(\"selected_model must be either 'LSTM_base' or 'LSTM_hybrid'\")\n",
        "\n",
        "  opt_adam = Adam(learning_rate=initial_learning_rate, beta_1=0.9, beta_2=0.999, epsilon=1e-08)\n",
        "  model.compile(loss='categorical_crossentropy' , optimizer=opt_adam, metrics=['categorical_accuracy'])\n",
        "\n",
        "  return model"
      ]
    },
    {
      "cell_type": "code",
      "execution_count": 14,
      "metadata": {
        "id": "MRMXyZ38OmMS"
      },
      "outputs": [],
      "source": [
        "def train_model(model, X_train, y_train, X_test, y_test, save_to, batch_size= 32, epochs = 2):\n",
        "\n",
        "        es = EarlyStopping(monitor='val_loss', mode='min', verbose=1, patience=30)\n",
        "        mc = ModelCheckpoint(save_to + '_best_model.h5',\n",
        "             monitor='val_categorical_accuracy', mode='max', verbose=1, save_best_only=True)\n",
        "\n",
        "        history = model.fit(X_train, y_train, batch_size = batch_size, epochs = epochs,  shuffle=True,\n",
        "                              verbose=1, validation_data=(X_test,y_test), callbacks=[es,mc])\n",
        "\n",
        "        saved_model = load_model(save_to + '_best_model.h5')\n",
        "\n",
        "        # evaluate the model\n",
        "        _, train_acc = saved_model.evaluate(X_train, y_train, verbose=1)\n",
        "        _, test_acc = saved_model.evaluate(X_test, y_test, verbose=1)\n",
        "        print('Train: %.3f, Test: %.3f' % (train_acc, test_acc))\n",
        "\n",
        "        return history,saved_model"
      ]
    },
    {
      "cell_type": "markdown",
      "metadata": {
        "id": "8bS-jdVCd7AF"
      },
      "source": [
        "# Data Construction"
      ]
    },
    {
      "cell_type": "code",
      "execution_count": 15,
      "metadata": {
        "id": "8N5QOnXMSCuF"
      },
      "outputs": [],
      "source": [
        "db2_path = \"/content/drive/MyDrive/MERIIT Smart Wearable Devices/Software AI Team/DB2\""
      ]
    },
    {
      "cell_type": "code",
      "execution_count": 16,
      "metadata": {
        "id": "N74T-xIrvq5v"
      },
      "outputs": [],
      "source": [
        "# Choose subject and get info\n",
        "subject = 1\n",
        "info_dict = nina_helper.db2_info()  # Get info\n",
        "\n",
        "# Get EMG, repetition and movement data, cap max length of rest data before and after each movement to 5 seconds\n",
        "# Capping occurs by reducing the size of repetition segments since splitting is based on repetition number\n",
        "data_dict = nina_helper.import_db2(db2_path, subject, rest_length_cap=5)\n",
        "\n",
        "# train-test split based on repetition number (specify a set to include)\n",
        "train_reps = [1,3,4,6]\n",
        "test_reps = [2,5]\n",
        "all_reps = [1,2,3,4,5,6]\n",
        "\n",
        "# Selected Gestures (which_moves (array, optional): Which movements to return - if None use all)\n",
        "# Gesture 0 is rest\n",
        "# Gestures 1-17 are the Exercise B gestures\n",
        "moves = np.arange(1,17+1,1)\n",
        "\n",
        "# Assuming 5 sec Repetition, this would be the first sec\n",
        "# Percent split of each repetition\n",
        "data_split = [20.0,80.0]\n",
        "\n",
        "\n",
        "# Find the indexes of the samples within a desired percentage of the train reps\n",
        "percent_reps_idx = get_percent_reps_idx(data_dict['emg'], data_dict['rep'], data_dict['move'],\n",
        "                                        train_reps, test_reps, which_moves=moves,\n",
        "                                        train_percent_reps = data_split, test_percent_reps=data_split)\n",
        "\n",
        "emg_data = data_dict['emg'][percent_reps_idx]\n",
        "rep_labels = data_dict['rep'][percent_reps_idx]\n",
        "move_labels = data_dict['move'][percent_reps_idx]"
      ]
    },
    {
      "cell_type": "code",
      "execution_count": 17,
      "metadata": {
        "colab": {
          "base_uri": "https://localhost:8080/"
        },
        "id": "zDOu7prz92zM",
        "outputId": "7c27584a-a7c4-47a2-f5b1-a463e9641ee1"
      },
      "outputs": [
        {
          "data": {
            "text/plain": [
              "(array([1, 2, 3, 4, 5, 6], dtype=int8),\n",
              " array([81113, 75656, 72665, 70866, 71530, 74369]))"
            ]
          },
          "execution_count": 17,
          "metadata": {},
          "output_type": "execute_result"
        }
      ],
      "source": [
        "np.unique(rep_labels, return_counts = True)"
      ]
    },
    {
      "cell_type": "code",
      "execution_count": 18,
      "metadata": {
        "colab": {
          "base_uri": "https://localhost:8080/"
        },
        "id": "ceD8aMlF9sVa",
        "outputId": "db5c1f95-6933-4566-8c2e-899762c95e3d"
      },
      "outputs": [
        {
          "data": {
            "text/plain": [
              "(array([ 1,  2,  3,  4,  5,  6,  7,  8,  9, 10, 11, 12, 13, 14, 15, 16, 17],\n",
              "       dtype=int8),\n",
              " array([47219, 35385, 30591, 27035, 24073, 15335, 34893, 16942, 23943,\n",
              "        27100, 26139, 26404, 23587, 22276, 14159, 26563, 24555]))"
            ]
          },
          "execution_count": 18,
          "metadata": {},
          "output_type": "execute_result"
        }
      ],
      "source": [
        "np.unique(move_labels, return_counts = True)"
      ]
    },
    {
      "cell_type": "code",
      "execution_count": 19,
      "metadata": {
        "id": "EF6jfr7RTpCW"
      },
      "outputs": [],
      "source": [
        "# Filter\n",
        "emg_band = filter_data(data=emg_data, f=(10,900), butterworth_order=4, btype='bandpass', fs=2000)\n",
        "emg_notch = notch_filter(data=emg_band,f0=50,Q=30,fs=2000)  # Powerline frequency, 50Hz in Europe, 60Hz in USA"
      ]
    },
    {
      "cell_type": "code",
      "execution_count": 20,
      "metadata": {
        "id": "CzQHbpeC0WtG"
      },
      "outputs": [],
      "source": [
        "# Normalise EMG data based on training set (Z-score Normalization)\n",
        "emg_normalized = normalise_emg(emg_notch, rep_labels, train_reps, move_labels, which_moves=moves)"
      ]
    },
    {
      "cell_type": "code",
      "execution_count": 21,
      "metadata": {
        "id": "Ara2xxxetx4X"
      },
      "outputs": [],
      "source": [
        "# Rectify (optional)\n",
        "#emg_rectified = abs(emg_normalized)"
      ]
    },
    {
      "cell_type": "code",
      "execution_count": 22,
      "metadata": {
        "colab": {
          "base_uri": "https://localhost:8080/"
        },
        "id": "G7Sh70ZWUScv",
        "outputId": "934f53a7-9483-4049-f509-c84ae008b52d"
      },
      "outputs": [
        {
          "name": "stdout",
          "output_type": "stream",
          "text": [
            "(14440, 600, 12, 1) (7360, 600, 12, 1) (14440,) (7360,)\n"
          ]
        }
      ],
      "source": [
        "# Decide window length\n",
        "window_len = 600  # Equivalent to 300ms\n",
        "window_inc = 20   # 10ms increments -> 96.66% overlap\n",
        "\n",
        "# Window data: x_all data is 4D tensor [observation, time_step, channel, 1] for use with Keras\n",
        "#y_all: movement label, length: number of windows\n",
        "#r_all: repetition label, length: number of windows\n",
        "\n",
        "x_all, y_all, r_all = get_windows(all_reps, window_len, window_inc,\n",
        "                                  emg_normalized, move_labels,\n",
        "                                  rep_labels)\n",
        "\n",
        "train_idx = get_idxs(r_all, train_reps)\n",
        "X_train = x_all[train_idx][...,np.newaxis]\n",
        "y_train = y_all[train_idx]\n",
        "\n",
        "test_idx = get_idxs(r_all, test_reps)\n",
        "X_test =  x_all[test_idx][...,np.newaxis]\n",
        "y_test = y_all[test_idx]\n",
        "\n",
        "print(X_train.shape, X_test.shape, y_train.shape, y_test.shape)"
      ]
    },
    {
      "cell_type": "code",
      "execution_count": 23,
      "metadata": {
        "id": "jO71osHr9zYf"
      },
      "outputs": [],
      "source": [
        "y_train = get_categorical(y_train)\n",
        "y_test = get_categorical(y_test)"
      ]
    },
    {
      "cell_type": "code",
      "execution_count": 24,
      "metadata": {
        "colab": {
          "base_uri": "https://localhost:8080/"
        },
        "id": "DaL40WweLtX9",
        "outputId": "627e7397-b6a1-4780-f429-406c69fd8b67"
      },
      "outputs": [
        {
          "data": {
            "text/plain": [
              "((14440, 600, 12, 1), (7360, 600, 12, 1), (14440, 17), (7360, 17))"
            ]
          },
          "execution_count": 24,
          "metadata": {},
          "output_type": "execute_result"
        }
      ],
      "source": [
        "X_train.shape, X_test.shape, y_train.shape, y_test.shape"
      ]
    },
    {
      "cell_type": "markdown",
      "metadata": {
        "id": "zEJ58bHu79Bi"
      },
      "source": [
        "## SET CURRENT DIRECTORY FOR SAVING DATA"
      ]
    },
    {
      "cell_type": "code",
      "execution_count": 25,
      "metadata": {
        "id": "aaCzDviV79Bn"
      },
      "outputs": [],
      "source": [
        "os.chdir('/content')"
      ]
    },
    {
      "cell_type": "code",
      "execution_count": 26,
      "metadata": {
        "id": "aWJkodN9eKvj"
      },
      "outputs": [],
      "source": [
        "# Save Data\n",
        "np.save(f'subject{subject}_train_matrix.npy', X_train)\n",
        "np.save(f'subject{subject}_test_matrix.npy', X_test)\n",
        "\n",
        "np.save(f'subject{subject}_train_labels.npy', y_train)\n",
        "np.save(f'subject{subject}_test_labels.npy', y_test)"
      ]
    },
    {
      "cell_type": "markdown",
      "metadata": {
        "id": "GiIXIL3VaFWz"
      },
      "source": [
        "# Data Loading"
      ]
    },
    {
      "cell_type": "code",
      "execution_count": 27,
      "metadata": {
        "id": "vJY53eFbcwhX"
      },
      "outputs": [],
      "source": [
        "subject = 1\n",
        "\n",
        "X_train = np.load(f'subject{subject}_train_matrix.npy')\n",
        "X_test = np.load(f'subject{subject}_test_matrix.npy')\n",
        "\n",
        "y_train = np.load(f'subject{subject}_train_labels.npy')\n",
        "y_test = np.load(f'subject{subject}_test_labels.npy')"
      ]
    },
    {
      "cell_type": "markdown",
      "metadata": {
        "id": "dDrJtWs1PkGn"
      },
      "source": [
        "# Enable TPU/GPU"
      ]
    },
    {
      "cell_type": "code",
      "execution_count": 28,
      "metadata": {
        "colab": {
          "base_uri": "https://localhost:8080/"
        },
        "execution": {
          "iopub.execute_input": "2021-11-04T10:59:48.985941Z",
          "iopub.status.busy": "2021-11-04T10:59:48.985477Z",
          "iopub.status.idle": "2021-11-04T10:59:49.010575Z",
          "shell.execute_reply": "2021-11-04T10:59:49.009685Z",
          "shell.execute_reply.started": "2021-11-04T10:59:48.985905Z"
        },
        "id": "zQlU8E2LFBbs",
        "outputId": "33b9ed6d-d99a-4c42-9305-723c93567c72",
        "trusted": true
      },
      "outputs": [
        {
          "name": "stdout",
          "output_type": "stream",
          "text": [
            "Number of accelerators:  1\n"
          ]
        }
      ],
      "source": [
        "try: # detect TPUs\n",
        "    tpu = tf.distribute.cluster_resolver.TPUClusterResolver.connect() # TPU detection\n",
        "    strategy = tf.distribute.TPUStrategy(tpu)\n",
        "except ValueError: # detect GPUs\n",
        "    strategy = tf.distribute.MirroredStrategy() # for GPU or multi-GPU machines\n",
        "    strategy = tf.distribute.get_strategy() # default strategy that works on CPU and single GPU\n",
        "    #strategy = tf.distribute.experimental.MultiWorkerMirroredStrategy() # for clusters of multi-GPU machines\n",
        "\n",
        "print(\"Number of accelerators: \", strategy.num_replicas_in_sync)"
      ]
    },
    {
      "cell_type": "markdown",
      "metadata": {
        "id": "o7JdF4NJ5zfN"
      },
      "source": [
        "# Train Model"
      ]
    },
    {
      "cell_type": "code",
      "execution_count": 29,
      "metadata": {
        "id": "BBN8_ArNN65L"
      },
      "outputs": [],
      "source": [
        "# Hyper-parameters\n",
        "epochs = 20\n",
        "initial_learning_rate = 1e-4\n",
        "batch_size = 128\n",
        "subject = 1"
      ]
    },
    {
      "cell_type": "code",
      "execution_count": 30,
      "metadata": {
        "colab": {
          "base_uri": "https://localhost:8080/"
        },
        "execution": {
          "iopub.execute_input": "2021-11-04T10:59:49.011752Z",
          "iopub.status.busy": "2021-11-04T10:59:49.011523Z",
          "iopub.status.idle": "2021-11-04T10:59:49.310002Z",
          "shell.execute_reply": "2021-11-04T10:59:49.309322Z",
          "shell.execute_reply.started": "2021-11-04T10:59:49.011700Z"
        },
        "id": "TO-GGj8-FBbu",
        "outputId": "c42b6bcd-2204-41ed-cc63-1ed8352d4352",
        "trusted": true
      },
      "outputs": [
        {
          "name": "stdout",
          "output_type": "stream",
          "text": [
            "Model: \"LSTM_hybrid\"\n",
            "__________________________________________________________________________________________________\n",
            " Layer (type)                Output Shape                 Param #   Connected to                  \n",
            "==================================================================================================\n",
            " input_1 (InputLayer)        [(None, 600, 12)]            0         []                            \n",
            "                                                                                                  \n",
            " lstm (LSTM)                 [(None, 600, 128),           72192     ['input_1[0][0]']             \n",
            "                              (None, 128),                                                        \n",
            "                              (None, 128)]                                                        \n",
            "                                                                                                  \n",
            " lstm_1 (LSTM)               [(None, 600, 128),           131584    ['lstm[0][0]',                \n",
            "                              (None, 128),                           'lstm[0][1]',                \n",
            "                              (None, 128)]                           'lstm[0][2]']                \n",
            "                                                                                                  \n",
            " lstm_2 (LSTM)               [(None, 600, 128),           131584    ['lstm_1[0][0]',              \n",
            "                              (None, 128),                           'lstm_1[0][1]',              \n",
            "                              (None, 128)]                           'lstm_1[0][2]']              \n",
            "                                                                                                  \n",
            " lstm_3 (LSTM)               [(None, 128),                131584    ['lstm_2[0][0]',              \n",
            "                              (None, 128),                           'lstm_2[0][1]',              \n",
            "                              (None, 128)]                           'lstm_2[0][2]']              \n",
            "                                                                                                  \n",
            " reshape (Reshape)           (None, 128, 1)               0         ['lstm_3[0][1]']              \n",
            "                                                                                                  \n",
            " conv1d (Conv1D)             (None, 124, 32)              192       ['reshape[0][0]']             \n",
            "                                                                                                  \n",
            " batch_normalization (Batch  (None, 124, 32)              128       ['conv1d[0][0]']              \n",
            " Normalization)                                                                                   \n",
            "                                                                                                  \n",
            " p_re_lu (PReLU)             (None, 124, 32)              3968      ['batch_normalization[0][0]'] \n",
            "                                                                                                  \n",
            " conv1d_1 (Conv1D)           (None, 116, 64)              10304     ['p_re_lu[0][0]']             \n",
            "                                                                                                  \n",
            " batch_normalization_1 (Bat  (None, 116, 64)              256       ['conv1d_1[0][0]']            \n",
            " chNormalization)                                                                                 \n",
            "                                                                                                  \n",
            " p_re_lu_1 (PReLU)           (None, 116, 64)              7424      ['batch_normalization_1[0][0]'\n",
            "                                                                    ]                             \n",
            "                                                                                                  \n",
            " conv1d_2 (Conv1D)           (None, 100, 64)              20544     ['p_re_lu_1[0][0]']           \n",
            "                                                                                                  \n",
            " batch_normalization_2 (Bat  (None, 100, 64)              256       ['conv1d_2[0][0]']            \n",
            " chNormalization)                                                                                 \n",
            "                                                                                                  \n",
            " p_re_lu_2 (PReLU)           (None, 100, 64)              6400      ['batch_normalization_2[0][0]'\n",
            "                                                                    ]                             \n",
            "                                                                                                  \n",
            " conv1d_3 (Conv1D)           (None, 68, 128)              41088     ['p_re_lu_2[0][0]']           \n",
            "                                                                                                  \n",
            " batch_normalization_3 (Bat  (None, 68, 128)              512       ['conv1d_3[0][0]']            \n",
            " chNormalization)                                                                                 \n",
            "                                                                                                  \n",
            " p_re_lu_3 (PReLU)           (None, 68, 128)              8704      ['batch_normalization_3[0][0]'\n",
            "                                                                    ]                             \n",
            "                                                                                                  \n",
            " conv1d_4 (Conv1D)           (None, 36, 128)              82048     ['p_re_lu_3[0][0]']           \n",
            "                                                                                                  \n",
            " batch_normalization_4 (Bat  (None, 36, 128)              512       ['conv1d_4[0][0]']            \n",
            " chNormalization)                                                                                 \n",
            "                                                                                                  \n",
            " p_re_lu_4 (PReLU)           (None, 36, 128)              4608      ['batch_normalization_4[0][0]'\n",
            "                                                                    ]                             \n",
            "                                                                                                  \n",
            " conv1d_5 (Conv1D)           (None, 4, 256)               164096    ['p_re_lu_4[0][0]']           \n",
            "                                                                                                  \n",
            " batch_normalization_5 (Bat  (None, 4, 256)               1024      ['conv1d_5[0][0]']            \n",
            " chNormalization)                                                                                 \n",
            "                                                                                                  \n",
            " p_re_lu_5 (PReLU)           (None, 4, 256)               1024      ['batch_normalization_5[0][0]'\n",
            "                                                                    ]                             \n",
            "                                                                                                  \n",
            " conv1d_6 (Conv1D)           (None, 1, 256)               262400    ['p_re_lu_5[0][0]']           \n",
            "                                                                                                  \n",
            " batch_normalization_6 (Bat  (None, 1, 256)               1024      ['conv1d_6[0][0]']            \n",
            " chNormalization)                                                                                 \n",
            "                                                                                                  \n",
            " p_re_lu_6 (PReLU)           (None, 1, 256)               256       ['batch_normalization_6[0][0]'\n",
            "                                                                    ]                             \n",
            "                                                                                                  \n",
            " flatten (Flatten)           (None, 256)                  0         ['p_re_lu_6[0][0]']           \n",
            "                                                                                                  \n",
            " dense (Dense)               (None, 64)                   16448     ['flatten[0][0]']             \n",
            "                                                                                                  \n",
            " dropout (Dropout)           (None, 64)                   0         ['dense[0][0]']               \n",
            "                                                                                                  \n",
            " dense_1 (Dense)             (None, 32)                   2080      ['dropout[0][0]']             \n",
            "                                                                                                  \n",
            " dropout_1 (Dropout)         (None, 32)                   0         ['dense_1[0][0]']             \n",
            "                                                                                                  \n",
            " dense_2 (Dense)             (None, 17)                   561       ['dropout_1[0][0]']           \n",
            "                                                                                                  \n",
            "==================================================================================================\n",
            "Total params: 1102801 (4.21 MB)\n",
            "Trainable params: 1100945 (4.20 MB)\n",
            "Non-trainable params: 1856 (7.25 KB)\n",
            "__________________________________________________________________________________________________\n"
          ]
        }
      ],
      "source": [
        "# Pick from \"LSTM_base\", \"LSTM_hybrid\"\n",
        "selected_model = \"LSTM_hybrid\"\n",
        "\n",
        "if len(X_train.shape)==4:\n",
        "  X_train = X_train.squeeze()\n",
        "  X_test = X_test.squeeze()\n",
        "\n",
        "with strategy.scope(): # creating the model in the scope places the model on the detected device(s)\n",
        "    model = create_compiled_model(X_train, y_train, initial_learning_rate, selected_model)\n",
        "model.summary()"
      ]
    },
    {
      "cell_type": "markdown",
      "metadata": {
        "id": "2W_DAfj17ebC"
      },
      "source": [
        "## SET CURRENT DIRECTORY FOR SAVING MODEL/RESULTS"
      ]
    },
    {
      "cell_type": "code",
      "execution_count": 31,
      "metadata": {
        "id": "GbgD6LaG7ebH"
      },
      "outputs": [],
      "source": [
        "os.chdir('/content')"
      ]
    },
    {
      "cell_type": "code",
      "execution_count": 32,
      "metadata": {
        "colab": {
          "base_uri": "https://localhost:8080/"
        },
        "id": "p6dJ5AznPai-",
        "outputId": "7bb37cb9-bca4-4366-f40c-69acddd111c6"
      },
      "outputs": [
        {
          "name": "stdout",
          "output_type": "stream",
          "text": [
            "Epoch 1/20\n",
            "113/113 [==============================] - ETA: 0s - loss: 2.6623 - categorical_accuracy: 0.1731\n",
            "Epoch 1: val_categorical_accuracy improved from -inf to 0.10543, saving model to LSTM_hybrid_best_model.h5\n",
            "113/113 [==============================] - 43s 213ms/step - loss: 2.6623 - categorical_accuracy: 0.1731 - val_loss: 2.9752 - val_categorical_accuracy: 0.1054\n",
            "Epoch 2/20\n"
          ]
        },
        {
          "name": "stderr",
          "output_type": "stream",
          "text": [
            "/usr/local/lib/python3.10/dist-packages/keras/src/engine/training.py:3103: UserWarning: You are saving your model as an HDF5 file via `model.save()`. This file format is considered legacy. We recommend using instead the native Keras format, e.g. `model.save('my_model.keras')`.\n",
            "  saving_api.save_model(\n"
          ]
        },
        {
          "name": "stdout",
          "output_type": "stream",
          "text": [
            "113/113 [==============================] - ETA: 0s - loss: 2.3514 - categorical_accuracy: 0.2503\n",
            "Epoch 2: val_categorical_accuracy did not improve from 0.10543\n",
            "113/113 [==============================] - 20s 176ms/step - loss: 2.3514 - categorical_accuracy: 0.2503 - val_loss: 3.2068 - val_categorical_accuracy: 0.1054\n",
            "Epoch 3/20\n",
            "113/113 [==============================] - ETA: 0s - loss: 2.1019 - categorical_accuracy: 0.3220\n",
            "Epoch 3: val_categorical_accuracy did not improve from 0.10543\n",
            "113/113 [==============================] - 20s 178ms/step - loss: 2.1019 - categorical_accuracy: 0.3220 - val_loss: 3.4113 - val_categorical_accuracy: 0.1054\n",
            "Epoch 4/20\n",
            "113/113 [==============================] - ETA: 0s - loss: 1.8635 - categorical_accuracy: 0.3948\n",
            "Epoch 4: val_categorical_accuracy did not improve from 0.10543\n",
            "113/113 [==============================] - 20s 180ms/step - loss: 1.8635 - categorical_accuracy: 0.3948 - val_loss: 2.9168 - val_categorical_accuracy: 0.1045\n",
            "Epoch 5/20\n",
            "113/113 [==============================] - ETA: 0s - loss: 1.6186 - categorical_accuracy: 0.4791\n",
            "Epoch 5: val_categorical_accuracy improved from 0.10543 to 0.37269, saving model to LSTM_hybrid_best_model.h5\n",
            "113/113 [==============================] - 21s 183ms/step - loss: 1.6186 - categorical_accuracy: 0.4791 - val_loss: 1.7172 - val_categorical_accuracy: 0.3727\n",
            "Epoch 6/20\n",
            "113/113 [==============================] - ETA: 0s - loss: 1.3756 - categorical_accuracy: 0.5598\n",
            "Epoch 6: val_categorical_accuracy improved from 0.37269 to 0.51046, saving model to LSTM_hybrid_best_model.h5\n",
            "113/113 [==============================] - 21s 183ms/step - loss: 1.3756 - categorical_accuracy: 0.5598 - val_loss: 1.3810 - val_categorical_accuracy: 0.5105\n",
            "Epoch 7/20\n",
            "113/113 [==============================] - ETA: 0s - loss: 1.2004 - categorical_accuracy: 0.6080\n",
            "Epoch 7: val_categorical_accuracy improved from 0.51046 to 0.62024, saving model to LSTM_hybrid_best_model.h5\n",
            "113/113 [==============================] - 21s 183ms/step - loss: 1.2004 - categorical_accuracy: 0.6080 - val_loss: 1.1773 - val_categorical_accuracy: 0.6202\n",
            "Epoch 8/20\n",
            "113/113 [==============================] - ETA: 0s - loss: 1.0788 - categorical_accuracy: 0.6507\n",
            "Epoch 8: val_categorical_accuracy did not improve from 0.62024\n",
            "113/113 [==============================] - 20s 181ms/step - loss: 1.0788 - categorical_accuracy: 0.6507 - val_loss: 1.2604 - val_categorical_accuracy: 0.5648\n",
            "Epoch 9/20\n",
            "113/113 [==============================] - ETA: 0s - loss: 0.9768 - categorical_accuracy: 0.6870\n",
            "Epoch 9: val_categorical_accuracy did not improve from 0.62024\n",
            "113/113 [==============================] - 21s 182ms/step - loss: 0.9768 - categorical_accuracy: 0.6870 - val_loss: 1.1747 - val_categorical_accuracy: 0.6000\n",
            "Epoch 10/20\n",
            "113/113 [==============================] - ETA: 0s - loss: 0.9226 - categorical_accuracy: 0.6976\n",
            "Epoch 10: val_categorical_accuracy improved from 0.62024 to 0.63207, saving model to LSTM_hybrid_best_model.h5\n",
            "113/113 [==============================] - 21s 184ms/step - loss: 0.9226 - categorical_accuracy: 0.6976 - val_loss: 1.0893 - val_categorical_accuracy: 0.6321\n",
            "Epoch 11/20\n",
            "113/113 [==============================] - ETA: 0s - loss: 0.8816 - categorical_accuracy: 0.7137\n",
            "Epoch 11: val_categorical_accuracy improved from 0.63207 to 0.67296, saving model to LSTM_hybrid_best_model.h5\n",
            "113/113 [==============================] - 21s 185ms/step - loss: 0.8816 - categorical_accuracy: 0.7137 - val_loss: 0.9699 - val_categorical_accuracy: 0.6730\n",
            "Epoch 12/20\n",
            "113/113 [==============================] - ETA: 0s - loss: 0.7983 - categorical_accuracy: 0.7476\n",
            "Epoch 12: val_categorical_accuracy improved from 0.67296 to 0.69212, saving model to LSTM_hybrid_best_model.h5\n",
            "113/113 [==============================] - 21s 185ms/step - loss: 0.7983 - categorical_accuracy: 0.7476 - val_loss: 0.9455 - val_categorical_accuracy: 0.6921\n",
            "Epoch 13/20\n",
            "113/113 [==============================] - ETA: 0s - loss: 0.7354 - categorical_accuracy: 0.7666\n",
            "Epoch 13: val_categorical_accuracy did not improve from 0.69212\n",
            "113/113 [==============================] - 21s 184ms/step - loss: 0.7354 - categorical_accuracy: 0.7666 - val_loss: 0.9297 - val_categorical_accuracy: 0.6849\n",
            "Epoch 14/20\n",
            "113/113 [==============================] - ETA: 0s - loss: 0.6892 - categorical_accuracy: 0.7833\n",
            "Epoch 14: val_categorical_accuracy did not improve from 0.69212\n",
            "113/113 [==============================] - 21s 184ms/step - loss: 0.6892 - categorical_accuracy: 0.7833 - val_loss: 0.9784 - val_categorical_accuracy: 0.6700\n",
            "Epoch 15/20\n",
            "113/113 [==============================] - ETA: 0s - loss: 0.6411 - categorical_accuracy: 0.8033\n",
            "Epoch 15: val_categorical_accuracy improved from 0.69212 to 0.69687, saving model to LSTM_hybrid_best_model.h5\n",
            "113/113 [==============================] - 21s 185ms/step - loss: 0.6411 - categorical_accuracy: 0.8033 - val_loss: 0.9400 - val_categorical_accuracy: 0.6969\n",
            "Epoch 16/20\n",
            "113/113 [==============================] - ETA: 0s - loss: 0.5839 - categorical_accuracy: 0.8244\n",
            "Epoch 16: val_categorical_accuracy improved from 0.69687 to 0.77120, saving model to LSTM_hybrid_best_model.h5\n",
            "113/113 [==============================] - 21s 185ms/step - loss: 0.5839 - categorical_accuracy: 0.8244 - val_loss: 0.7276 - val_categorical_accuracy: 0.7712\n",
            "Epoch 17/20\n",
            "113/113 [==============================] - ETA: 0s - loss: 0.6046 - categorical_accuracy: 0.8141\n",
            "Epoch 17: val_categorical_accuracy did not improve from 0.77120\n",
            "113/113 [==============================] - 21s 184ms/step - loss: 0.6046 - categorical_accuracy: 0.8141 - val_loss: 0.7671 - val_categorical_accuracy: 0.7673\n",
            "Epoch 18/20\n",
            "113/113 [==============================] - ETA: 0s - loss: 0.5453 - categorical_accuracy: 0.8333\n",
            "Epoch 18: val_categorical_accuracy did not improve from 0.77120\n",
            "113/113 [==============================] - 21s 184ms/step - loss: 0.5453 - categorical_accuracy: 0.8333 - val_loss: 0.7270 - val_categorical_accuracy: 0.7632\n",
            "Epoch 19/20\n",
            "113/113 [==============================] - ETA: 0s - loss: 0.5061 - categorical_accuracy: 0.8501\n",
            "Epoch 19: val_categorical_accuracy did not improve from 0.77120\n",
            "113/113 [==============================] - 21s 184ms/step - loss: 0.5061 - categorical_accuracy: 0.8501 - val_loss: 0.7120 - val_categorical_accuracy: 0.7708\n",
            "Epoch 20/20\n",
            "113/113 [==============================] - ETA: 0s - loss: 0.4689 - categorical_accuracy: 0.8627\n",
            "Epoch 20: val_categorical_accuracy did not improve from 0.77120\n",
            "113/113 [==============================] - 21s 183ms/step - loss: 0.4689 - categorical_accuracy: 0.8627 - val_loss: 0.7366 - val_categorical_accuracy: 0.7688\n",
            "452/452 [==============================] - 17s 33ms/step - loss: 0.5030 - categorical_accuracy: 0.8454\n",
            "230/230 [==============================] - 8s 33ms/step - loss: 0.7276 - categorical_accuracy: 0.7712\n",
            "Train: 0.845, Test: 0.771\n"
          ]
        }
      ],
      "source": [
        "histories, model = train_model(model, X_train, y_train, X_test, y_test,\n",
        "                               save_to = f'{model.name}',\n",
        "                               batch_size=batch_size, epochs = epochs)"
      ]
    },
    {
      "cell_type": "markdown",
      "metadata": {
        "id": "4D2RHqXPPkVn"
      },
      "source": [
        "# Plotting + Report"
      ]
    },
    {
      "cell_type": "code",
      "execution_count": 33,
      "metadata": {
        "colab": {
          "base_uri": "https://localhost:8080/",
          "height": 472
        },
        "id": "2sNQzFVtPnM4",
        "outputId": "ddc78393-394d-4dfd-bf3f-b9f849fedc3a"
      },
      "outputs": [
        {
          "data": {
            "image/png": "[encoded data removed]",
            "text/plain": [
              "<Figure size 640x480 with 1 Axes>"
            ]
          },
          "metadata": {},
          "output_type": "display_data"
        }
      ],
      "source": [
        "# summarize history for accuracy\n",
        "plt.plot(histories.history['categorical_accuracy'])\n",
        "plt.plot(histories.history['val_categorical_accuracy'])\n",
        "plt.title('model accuracy')\n",
        "plt.ylabel('accuracy')\n",
        "plt.xlabel('epoch')\n",
        "plt.legend(['train', 'test'], loc='upper left')\n",
        "plt.show()"
      ]
    },
    {
      "cell_type": "code",
      "execution_count": 34,
      "metadata": {
        "colab": {
          "base_uri": "https://localhost:8080/",
          "height": 472
        },
        "id": "60IrTBcXPqLp",
        "outputId": "0b5db6c7-4680-4635-e86d-ff306882a78c"
      },
      "outputs": [
        {
          "data": {
            "image/png": "[encoded data removed]",
            "text/plain": [
              "<Figure size 640x480 with 1 Axes>"
            ]
          },
          "metadata": {},
          "output_type": "display_data"
        }
      ],
      "source": [
        "# summarize history for loss\n",
        "plt.clf\n",
        "plt.plot(histories.history['loss'])\n",
        "plt.plot(histories.history['val_loss'])\n",
        "plt.title('model loss')\n",
        "plt.ylabel('loss')\n",
        "plt.xlabel('epoch')\n",
        "plt.legend(['train', 'test'], loc='upper left')\n",
        "plt.show()"
      ]
    },
    {
      "cell_type": "code",
      "execution_count": 35,
      "metadata": {
        "id": "yjKxvZa25NLy"
      },
      "outputs": [],
      "source": [
        "def Statistics(data):\n",
        "  # Classification Report\n",
        "  report = classification_report(data['actual labels'],data['predicted labels'],output_dict=True)\n",
        "  report = pd.DataFrame(report).T\n",
        "  # Confusion matrix\n",
        "  print(\"Confusion matrix is shown below\")\n",
        "  c_matrix=confusion_matrix(data['actual labels'],data['predicted labels'])\n",
        "  FP = c_matrix.sum(axis=0) - np.diag(c_matrix)\n",
        "  FN = c_matrix.sum(axis=1) - np.diag(c_matrix)\n",
        "  TP = np.diag(c_matrix)\n",
        "  TN = c_matrix.sum() - (FP + FN + TP)\n",
        "  FP = FP.astype(float)\n",
        "  FN = FN.astype(float)\n",
        "  TP = TP.astype(float)\n",
        "  TN = TN.astype(float)\n",
        "  # Sensitivity or positive recall\n",
        "  TPR = TP/(TP+FN)\n",
        "  # Specificity or true negative rate or negative recall\n",
        "  TNR = TN/(TN+FP)\n",
        "  accuracy = accuracy_score(data['actual labels'],data['predicted labels'])\n",
        "  TNR = np.append(TNR,[accuracy, TNR.mean(), ((TNR * report['support'][:17]).sum())/(report['support'][:17].sum())])\n",
        "  report['specificity'] = TNR # adding new column specificity\n",
        "  plt.figure(figsize=(40,20))\n",
        "  norm_c_matrix = c_matrix.astype('float') / c_matrix.sum(axis=1)[:, np.newaxis]\n",
        "  sns.heatmap(norm_c_matrix, annot=True,cmap='Blues', fmt='.2f')\n",
        "  #sns.heatmap(c_matrix, annot=True,cmap='Blues', fmt='g')\n",
        "  plt.xlabel('Predicted')\n",
        "  plt.ylabel('Truth')\n",
        "  plt.savefig(\"CapsNet_confusion_mat_{}ms.jpg\".format(int(window_len/2)))\n",
        "  print(\"Balanced_accuracy:{}\".format(balanced_accuracy_score(data['actual labels'],data['predicted labels'])))\n",
        "  return report, c_matrix, norm_c_matrix"
      ]
    },
    {
      "cell_type": "code",
      "execution_count": 36,
      "metadata": {
        "colab": {
          "base_uri": "https://localhost:8080/",
          "height": 734
        },
        "id": "f5nhqDxsQVrx",
        "outputId": "45db7611-7c5d-4b93-f675-3ddec85bec3c"
      },
      "outputs": [
        {
          "name": "stdout",
          "output_type": "stream",
          "text": [
            "230/230 [==============================] - 9s 32ms/step\n",
            "y_test, y_pred: (7360,) (7360,)\n",
            "Confusion matrix is shown below\n",
            "Balanced_accuracy:0.7581955879854554\n"
          ]
        },
        {
          "data": {
            "image/png": "[encoded data removed]",
            "text/plain": [
              "<Figure size 4000x2000 with 2 Axes>"
            ]
          },
          "metadata": {},
          "output_type": "display_data"
        }
      ],
      "source": [
        "# Reports + Confusion Matrix\n",
        "#\n",
        "# If loading model from another directory, set model path\n",
        "# model_path = \"model/directory/\"\n",
        "# model = load_model(os.path.normpath(model_path + model_name))\n",
        "\n",
        "save_to = f'{model.name}'\n",
        "model_name = save_to + '_best_model.h5'\n",
        "model =  load_model(model_name)\n",
        "\n",
        "#y_test = np.array(y_test)\n",
        "y_tested = np.argmax(y_test,axis=1)\n",
        "y_pred = model.predict(X_test, verbose=1)\n",
        "y_pred=np.argmax(y_pred, axis=1)\n",
        "print(\"y_test, y_pred:\", y_tested.shape, y_pred.shape)\n",
        "\n",
        "data = []\n",
        "data.append(y_tested)\n",
        "data.append(y_pred)\n",
        "data = np.vstack(data).T\n",
        "data_df = pd.DataFrame(data, columns = ['actual labels', 'predicted labels'])\n",
        "report, c_matrix, norm_c_matrix = Statistics(data_df)"
      ]
    },
    {
      "cell_type": "code",
      "execution_count": 37,
      "metadata": {
        "colab": {
          "base_uri": "https://localhost:8080/",
          "height": 676
        },
        "id": "YKNlFAUv9SV8",
        "outputId": "f55f1ed2-d8a9-423f-f2ce-9c5f18f3a269"
      },
      "outputs": [
        {
          "data": {
            "application/vnd.google.colaboratory.intrinsic+json": {
              "summary": "{\n  \"name\": \"report\",\n  \"rows\": 20,\n  \"fields\": [\n    {\n      \"column\": \"precision\",\n      \"properties\": {\n        \"dtype\": \"number\",\n        \"std\": 0.1532178300128125,\n        \"min\": 0.41002277904328016,\n        \"max\": 0.9826086956521739,\n        \"num_unique_values\": 20,\n        \"samples\": [\n          0.927070457354759,\n          0.7711956521739131,\n          0.7658536585365854\n        ],\n        \"semantic_type\": \"\",\n        \"description\": \"\"\n      }\n    },\n    {\n      \"column\": \"recall\",\n      \"properties\": {\n        \"dtype\": \"number\",\n        \"std\": 0.15138193175601541,\n        \"min\": 0.3855140186915888,\n        \"max\": 0.9872881355932204,\n        \"num_unique_values\": 19,\n        \"samples\": [\n          0.9664948453608248,\n          0.766798418972332,\n          0.8045977011494253\n        ],\n        \"semantic_type\": \"\",\n        \"description\": \"\"\n      }\n    },\n    {\n      \"column\": \"f1-score\",\n      \"properties\": {\n        \"dtype\": \"number\",\n        \"std\": 0.1353891992225902,\n        \"min\": 0.4135338345864662,\n        \"max\": 0.9463722397476341,\n        \"num_unique_values\": 20,\n        \"samples\": [\n          0.9463722397476341,\n          0.7711956521739131,\n          0.72183908045977\n        ],\n        \"semantic_type\": \"\",\n        \"description\": \"\"\n      }\n    },\n    {\n      \"column\": \"support\",\n      \"properties\": {\n        \"dtype\": \"number\",\n        \"std\": 2145.1336329985006,\n        \"min\": 0.7711956521739131,\n        \"max\": 7360.0,\n        \"num_unique_values\": 19,\n        \"samples\": [\n          776.0,\n          253.0,\n          435.0\n        ],\n        \"semantic_type\": \"\",\n        \"description\": \"\"\n      }\n    },\n    {\n      \"column\": \"specificity\",\n      \"properties\": {\n        \"dtype\": \"number\",\n        \"std\": 0.048965591221134204,\n        \"min\": 0.7711956521739131,\n        \"max\": 0.9994296306858691,\n        \"num_unique_values\": 20,\n        \"samples\": [\n          0.9910388821385177,\n          0.7711956521739131,\n          0.9860869565217392\n        ],\n        \"semantic_type\": \"\",\n        \"description\": \"\"\n      }\n    }\n  ]\n}",
              "type": "dataframe",
              "variable_name": "report"
            },
            "text/html": [
              "\n",
              "  <div id=\"df-540130b5-f50c-4e0c-bf7c-fd2f7ce76531\" class=\"colab-df-container\">\n",
              "    <div>\n",
              "<style scoped>\n",
              "    .dataframe tbody tr th:only-of-type {\n",
              "        vertical-align: middle;\n",
              "    }\n",
              "\n",
              "    .dataframe tbody tr th {\n",
              "        vertical-align: top;\n",
              "    }\n",
              "\n",
              "    .dataframe thead th {\n",
              "        text-align: right;\n",
              "    }\n",
              "</style>\n",
              "<table border=\"1\" class=\"dataframe\">\n",
              "  <thead>\n",
              "    <tr style=\"text-align: right;\">\n",
              "      <th></th>\n",
              "      <th>precision</th>\n",
              "      <th>recall</th>\n",
              "      <th>f1-score</th>\n",
              "      <th>support</th>\n",
              "      <th>specificity</th>\n",
              "    </tr>\n",
              "  </thead>\n",
              "  <tbody>\n",
              "    <tr>\n",
              "      <th>0</th>\n",
              "      <td>0.927070</td>\n",
              "      <td>0.966495</td>\n",
              "      <td>0.946372</td>\n",
              "      <td>776.000000</td>\n",
              "      <td>0.991039</td>\n",
              "    </tr>\n",
              "    <tr>\n",
              "      <th>1</th>\n",
              "      <td>0.822157</td>\n",
              "      <td>0.933775</td>\n",
              "      <td>0.874419</td>\n",
              "      <td>604.000000</td>\n",
              "      <td>0.981942</td>\n",
              "    </tr>\n",
              "    <tr>\n",
              "      <th>2</th>\n",
              "      <td>0.905405</td>\n",
              "      <td>0.921415</td>\n",
              "      <td>0.913340</td>\n",
              "      <td>509.000000</td>\n",
              "      <td>0.992848</td>\n",
              "    </tr>\n",
              "    <tr>\n",
              "      <th>3</th>\n",
              "      <td>0.721382</td>\n",
              "      <td>0.784038</td>\n",
              "      <td>0.751406</td>\n",
              "      <td>426.000000</td>\n",
              "      <td>0.981396</td>\n",
              "    </tr>\n",
              "    <tr>\n",
              "      <th>4</th>\n",
              "      <td>0.719376</td>\n",
              "      <td>0.805486</td>\n",
              "      <td>0.760000</td>\n",
              "      <td>401.000000</td>\n",
              "      <td>0.981894</td>\n",
              "    </tr>\n",
              "    <tr>\n",
              "      <th>5</th>\n",
              "      <td>0.974874</td>\n",
              "      <td>0.766798</td>\n",
              "      <td>0.858407</td>\n",
              "      <td>253.000000</td>\n",
              "      <td>0.999296</td>\n",
              "    </tr>\n",
              "    <tr>\n",
              "      <th>6</th>\n",
              "      <td>0.899628</td>\n",
              "      <td>0.834483</td>\n",
              "      <td>0.865832</td>\n",
              "      <td>580.000000</td>\n",
              "      <td>0.992035</td>\n",
              "    </tr>\n",
              "    <tr>\n",
              "      <th>7</th>\n",
              "      <td>0.798658</td>\n",
              "      <td>0.826389</td>\n",
              "      <td>0.812287</td>\n",
              "      <td>288.000000</td>\n",
              "      <td>0.991516</td>\n",
              "    </tr>\n",
              "    <tr>\n",
              "      <th>8</th>\n",
              "      <td>0.410023</td>\n",
              "      <td>0.474934</td>\n",
              "      <td>0.440098</td>\n",
              "      <td>379.000000</td>\n",
              "      <td>0.962899</td>\n",
              "    </tr>\n",
              "    <tr>\n",
              "      <th>9</th>\n",
              "      <td>0.445946</td>\n",
              "      <td>0.385514</td>\n",
              "      <td>0.413534</td>\n",
              "      <td>428.000000</td>\n",
              "      <td>0.970427</td>\n",
              "    </tr>\n",
              "    <tr>\n",
              "      <th>10</th>\n",
              "      <td>0.593128</td>\n",
              "      <td>0.722467</td>\n",
              "      <td>0.651440</td>\n",
              "      <td>454.000000</td>\n",
              "      <td>0.967420</td>\n",
              "    </tr>\n",
              "    <tr>\n",
              "      <th>11</th>\n",
              "      <td>0.724638</td>\n",
              "      <td>0.804598</td>\n",
              "      <td>0.762527</td>\n",
              "      <td>435.000000</td>\n",
              "      <td>0.980794</td>\n",
              "    </tr>\n",
              "    <tr>\n",
              "      <th>12</th>\n",
              "      <td>0.982609</td>\n",
              "      <td>0.651297</td>\n",
              "      <td>0.783362</td>\n",
              "      <td>347.000000</td>\n",
              "      <td>0.999430</td>\n",
              "    </tr>\n",
              "    <tr>\n",
              "      <th>13</th>\n",
              "      <td>0.918919</td>\n",
              "      <td>0.589109</td>\n",
              "      <td>0.717949</td>\n",
              "      <td>404.000000</td>\n",
              "      <td>0.996981</td>\n",
              "    </tr>\n",
              "    <tr>\n",
              "      <th>14</th>\n",
              "      <td>0.797945</td>\n",
              "      <td>0.987288</td>\n",
              "      <td>0.882576</td>\n",
              "      <td>236.000000</td>\n",
              "      <td>0.991718</td>\n",
              "    </tr>\n",
              "    <tr>\n",
              "      <th>15</th>\n",
              "      <td>0.765854</td>\n",
              "      <td>0.682609</td>\n",
              "      <td>0.721839</td>\n",
              "      <td>460.000000</td>\n",
              "      <td>0.986087</td>\n",
              "    </tr>\n",
              "    <tr>\n",
              "      <th>16</th>\n",
              "      <td>0.785714</td>\n",
              "      <td>0.752632</td>\n",
              "      <td>0.768817</td>\n",
              "      <td>380.000000</td>\n",
              "      <td>0.988825</td>\n",
              "    </tr>\n",
              "    <tr>\n",
              "      <th>accuracy</th>\n",
              "      <td>0.771196</td>\n",
              "      <td>0.771196</td>\n",
              "      <td>0.771196</td>\n",
              "      <td>0.771196</td>\n",
              "      <td>0.771196</td>\n",
              "    </tr>\n",
              "    <tr>\n",
              "      <th>macro avg</th>\n",
              "      <td>0.776078</td>\n",
              "      <td>0.758196</td>\n",
              "      <td>0.760247</td>\n",
              "      <td>7360.000000</td>\n",
              "      <td>0.985679</td>\n",
              "    </tr>\n",
              "    <tr>\n",
              "      <th>weighted avg</th>\n",
              "      <td>0.781686</td>\n",
              "      <td>0.771196</td>\n",
              "      <td>0.770542</td>\n",
              "      <td>7360.000000</td>\n",
              "      <td>0.985352</td>\n",
              "    </tr>\n",
              "  </tbody>\n",
              "</table>\n",
              "</div>\n",
              "    <div class=\"colab-df-buttons\">\n",
              "\n",
              "  <div class=\"colab-df-container\">\n",
              "    <button class=\"colab-df-convert\" onclick=\"convertToInteractive('df-540130b5-f50c-4e0c-bf7c-fd2f7ce76531')\"\n",
              "            title=\"Convert this dataframe to an interactive table.\"\n",
              "            style=\"display:none;\">\n",
              "\n",
              "  <svg xmlns=\"http://www.w3.org/2000/svg\" height=\"24px\" viewBox=\"0 -960 960 960\">\n",
              "    <path d=\"M120-120v-720h720v720H120Zm60-500h600v-160H180v160Zm220 220h160v-160H400v160Zm0 220h160v-160H400v160ZM180-400h160v-160H180v160Zm440 0h160v-160H620v160ZM180-180h160v-160H180v160Zm440 0h160v-160H620v160Z\"/>\n",
              "  </svg>\n",
              "    </button>\n",
              "\n",
              "  <style>\n",
              "    .colab-df-container {\n",
              "      display:flex;\n",
              "      gap: 12px;\n",
              "    }\n",
              "\n",
              "    .colab-df-convert {\n",
              "      background-color: #E8F0FE;\n",
              "      border: none;\n",
              "      border-radius: 50%;\n",
              "      cursor: pointer;\n",
              "      display: none;\n",
              "      fill: #1967D2;\n",
              "      height: 32px;\n",
              "      padding: 0 0 0 0;\n",
              "      width: 32px;\n",
              "    }\n",
              "\n",
              "    .colab-df-convert:hover {\n",
              "      background-color: #E2EBFA;\n",
              "      box-shadow: 0px 1px 2px rgba(60, 64, 67, 0.3), 0px 1px 3px 1px rgba(60, 64, 67, 0.15);\n",
              "      fill: #174EA6;\n",
              "    }\n",
              "\n",
              "    .colab-df-buttons div {\n",
              "      margin-bottom: 4px;\n",
              "    }\n",
              "\n",
              "    [theme=dark] .colab-df-convert {\n",
              "      background-color: #3B4455;\n",
              "      fill: #D2E3FC;\n",
              "    }\n",
              "\n",
              "    [theme=dark] .colab-df-convert:hover {\n",
              "      background-color: #434B5C;\n",
              "      box-shadow: 0px 1px 3px 1px rgba(0, 0, 0, 0.15);\n",
              "      filter: drop-shadow(0px 1px 2px rgba(0, 0, 0, 0.3));\n",
              "      fill: #FFFFFF;\n",
              "    }\n",
              "  </style>\n",
              "\n",
              "    <script>\n",
              "      const buttonEl =\n",
              "        document.querySelector('#df-540130b5-f50c-4e0c-bf7c-fd2f7ce76531 button.colab-df-convert');\n",
              "      buttonEl.style.display =\n",
              "        google.colab.kernel.accessAllowed ? 'block' : 'none';\n",
              "\n",
              "      async function convertToInteractive(key) {\n",
              "        const element = document.querySelector('#df-540130b5-f50c-4e0c-bf7c-fd2f7ce76531');\n",
              "        const dataTable =\n",
              "          await google.colab.kernel.invokeFunction('convertToInteractive',\n",
              "                                                    [key], {});\n",
              "        if (!dataTable) return;\n",
              "\n",
              "        const docLinkHtml = 'Like what you see? Visit the ' +\n",
              "          '<a target=\"_blank\" href=https://colab.research.google.com/notebooks/data_table.ipynb>data table notebook</a>'\n",
              "          + ' to learn more about interactive tables.';\n",
              "        element.innerHTML = '';\n",
              "        dataTable['output_type'] = 'display_data';\n",
              "        await google.colab.output.renderOutput(dataTable, element);\n",
              "        const docLink = document.createElement('div');\n",
              "        docLink.innerHTML = docLinkHtml;\n",
              "        element.appendChild(docLink);\n",
              "      }\n",
              "    </script>\n",
              "  </div>\n",
              "\n",
              "\n",
              "<div id=\"df-2baf1662-2f8d-488b-b2c0-fb5d2c1d93ed\">\n",
              "  <button class=\"colab-df-quickchart\" onclick=\"quickchart('df-2baf1662-2f8d-488b-b2c0-fb5d2c1d93ed')\"\n",
              "            title=\"Suggest charts\"\n",
              "            style=\"display:none;\">\n",
              "\n",
              "<svg xmlns=\"http://www.w3.org/2000/svg\" height=\"24px\"viewBox=\"0 0 24 24\"\n",
              "     width=\"24px\">\n",
              "    <g>\n",
              "        <path d=\"M19 3H5c-1.1 0-2 .9-2 2v14c0 1.1.9 2 2 2h14c1.1 0 2-.9 2-2V5c0-1.1-.9-2-2-2zM9 17H7v-7h2v7zm4 0h-2V7h2v10zm4 0h-2v-4h2v4z\"/>\n",
              "    </g>\n",
              "</svg>\n",
              "  </button>\n",
              "\n",
              "<style>\n",
              "  .colab-df-quickchart {\n",
              "      --bg-color: #E8F0FE;\n",
              "      --fill-color: #1967D2;\n",
              "      --hover-bg-color: #E2EBFA;\n",
              "      --hover-fill-color: #174EA6;\n",
              "      --disabled-fill-color: #AAA;\n",
              "      --disabled-bg-color: #DDD;\n",
              "  }\n",
              "\n",
              "  [theme=dark] .colab-df-quickchart {\n",
              "      --bg-color: #3B4455;\n",
              "      --fill-color: #D2E3FC;\n",
              "      --hover-bg-color: #434B5C;\n",
              "      --hover-fill-color: #FFFFFF;\n",
              "      --disabled-bg-color: #3B4455;\n",
              "      --disabled-fill-color: #666;\n",
              "  }\n",
              "\n",
              "  .colab-df-quickchart {\n",
              "    background-color: var(--bg-color);\n",
              "    border: none;\n",
              "    border-radius: 50%;\n",
              "    cursor: pointer;\n",
              "    display: none;\n",
              "    fill: var(--fill-color);\n",
              "    height: 32px;\n",
              "    padding: 0;\n",
              "    width: 32px;\n",
              "  }\n",
              "\n",
              "  .colab-df-quickchart:hover {\n",
              "    background-color: var(--hover-bg-color);\n",
              "    box-shadow: 0 1px 2px rgba(60, 64, 67, 0.3), 0 1px 3px 1px rgba(60, 64, 67, 0.15);\n",
              "    fill: var(--button-hover-fill-color);\n",
              "  }\n",
              "\n",
              "  .colab-df-quickchart-complete:disabled,\n",
              "  .colab-df-quickchart-complete:disabled:hover {\n",
              "    background-color: var(--disabled-bg-color);\n",
              "    fill: var(--disabled-fill-color);\n",
              "    box-shadow: none;\n",
              "  }\n",
              "\n",
              "  .colab-df-spinner {\n",
              "    border: 2px solid var(--fill-color);\n",
              "    border-color: transparent;\n",
              "    border-bottom-color: var(--fill-color);\n",
              "    animation:\n",
              "      spin 1s steps(1) infinite;\n",
              "  }\n",
              "\n",
              "  @keyframes spin {\n",
              "    0% {\n",
              "      border-color: transparent;\n",
              "      border-bottom-color: var(--fill-color);\n",
              "      border-left-color: var(--fill-color);\n",
              "    }\n",
              "    20% {\n",
              "      border-color: transparent;\n",
              "      border-left-color: var(--fill-color);\n",
              "      border-top-color: var(--fill-color);\n",
              "    }\n",
              "    30% {\n",
              "      border-color: transparent;\n",
              "      border-left-color: var(--fill-color);\n",
              "      border-top-color: var(--fill-color);\n",
              "      border-right-color: var(--fill-color);\n",
              "    }\n",
              "    40% {\n",
              "      border-color: transparent;\n",
              "      border-right-color: var(--fill-color);\n",
              "      border-top-color: var(--fill-color);\n",
              "    }\n",
              "    60% {\n",
              "      border-color: transparent;\n",
              "      border-right-color: var(--fill-color);\n",
              "    }\n",
              "    80% {\n",
              "      border-color: transparent;\n",
              "      border-right-color: var(--fill-color);\n",
              "      border-bottom-color: var(--fill-color);\n",
              "    }\n",
              "    90% {\n",
              "      border-color: transparent;\n",
              "      border-bottom-color: var(--fill-color);\n",
              "    }\n",
              "  }\n",
              "</style>\n",
              "\n",
              "  <script>\n",
              "    async function quickchart(key) {\n",
              "      const quickchartButtonEl =\n",
              "        document.querySelector('#' + key + ' button');\n",
              "      quickchartButtonEl.disabled = true;  // To prevent multiple clicks.\n",
              "      quickchartButtonEl.classList.add('colab-df-spinner');\n",
              "      try {\n",
              "        const charts = await google.colab.kernel.invokeFunction(\n",
              "            'suggestCharts', [key], {});\n",
              "      } catch (error) {\n",
              "        console.error('Error during call to suggestCharts:', error);\n",
              "      }\n",
              "      quickchartButtonEl.classList.remove('colab-df-spinner');\n",
              "      quickchartButtonEl.classList.add('colab-df-quickchart-complete');\n",
              "    }\n",
              "    (() => {\n",
              "      let quickchartButtonEl =\n",
              "        document.querySelector('#df-2baf1662-2f8d-488b-b2c0-fb5d2c1d93ed button');\n",
              "      quickchartButtonEl.style.display =\n",
              "        google.colab.kernel.accessAllowed ? 'block' : 'none';\n",
              "    })();\n",
              "  </script>\n",
              "</div>\n",
              "    </div>\n",
              "  </div>\n"
            ],
            "text/plain": [
              "              precision    recall  f1-score      support  specificity\n",
              "0              0.927070  0.966495  0.946372   776.000000     0.991039\n",
              "1              0.822157  0.933775  0.874419   604.000000     0.981942\n",
              "2              0.905405  0.921415  0.913340   509.000000     0.992848\n",
              "3              0.721382  0.784038  0.751406   426.000000     0.981396\n",
              "4              0.719376  0.805486  0.760000   401.000000     0.981894\n",
              "5              0.974874  0.766798  0.858407   253.000000     0.999296\n",
              "6              0.899628  0.834483  0.865832   580.000000     0.992035\n",
              "7              0.798658  0.826389  0.812287   288.000000     0.991516\n",
              "8              0.410023  0.474934  0.440098   379.000000     0.962899\n",
              "9              0.445946  0.385514  0.413534   428.000000     0.970427\n",
              "10             0.593128  0.722467  0.651440   454.000000     0.967420\n",
              "11             0.724638  0.804598  0.762527   435.000000     0.980794\n",
              "12             0.982609  0.651297  0.783362   347.000000     0.999430\n",
              "13             0.918919  0.589109  0.717949   404.000000     0.996981\n",
              "14             0.797945  0.987288  0.882576   236.000000     0.991718\n",
              "15             0.765854  0.682609  0.721839   460.000000     0.986087\n",
              "16             0.785714  0.752632  0.768817   380.000000     0.988825\n",
              "accuracy       0.771196  0.771196  0.771196     0.771196     0.771196\n",
              "macro avg      0.776078  0.758196  0.760247  7360.000000     0.985679\n",
              "weighted avg   0.781686  0.771196  0.770542  7360.000000     0.985352"
            ]
          },
          "execution_count": 37,
          "metadata": {},
          "output_type": "execute_result"
        }
      ],
      "source": [
        "report"
      ]
    },
    {
      "cell_type": "code",
      "execution_count": 37,
      "metadata": {
        "id": "ToZQn31I9S-V"
      },
      "outputs": [],
      "source": []
    }
  ],
  "metadata": {
    "accelerator": "GPU",
    "colab": {
      "gpuType": "T4",
      "machine_shape": "hm",
      "provenance": [],
      "toc_visible": true
    },
    "kernelspec": {
      "display_name": "Python 3",
      "name": "python3"
    },
    "language_info": {
      "name": "python"
    }
  },
  "nbformat": 4,
  "nbformat_minor": 0
}
