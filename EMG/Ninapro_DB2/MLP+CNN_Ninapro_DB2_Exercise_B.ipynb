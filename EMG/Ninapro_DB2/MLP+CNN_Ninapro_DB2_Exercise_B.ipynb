{
  "cells": [
    {
      "cell_type": "code",
      "execution_count": 1,
      "metadata": {
        "colab": {
          "base_uri": "https://localhost:8080/"
        },
        "id": "F78SKzD-Rufy",
        "outputId": "faea3c6a-9636-4a17-de22-65c808c17282"
      },
      "outputs": [
        {
          "name": "stdout",
          "output_type": "stream",
          "text": [
            "Mounted at /content/drive\n"
          ]
        }
      ],
      "source": [
        "from google.colab import drive\n",
        "drive.mount('/content/drive')"
      ]
    },
    {
      "cell_type": "markdown",
      "metadata": {
        "id": "G8OKfJ6Ma3hp"
      },
      "source": [
        "# Packages\n",
        " * Not all packages are used, but some might be useful for testing"
      ]
    },
    {
      "cell_type": "code",
      "execution_count": 2,
      "metadata": {
        "colab": {
          "base_uri": "https://localhost:8080/"
        },
        "id": "8BRySuQVRofU",
        "outputId": "6ebbefed-3714-4f6e-c776-129b0d29252b"
      },
      "outputs": [
        {
          "name": "stdout",
          "output_type": "stream",
          "text": [
            "Requirement already satisfied: pip in /usr/local/lib/python3.10/dist-packages (23.1.2)\n",
            "Collecting install\n",
            "  Downloading install-1.3.5-py3-none-any.whl (3.2 kB)\n",
            "Collecting sklearn==0.0\n",
            "  Downloading sklearn-0.0.tar.gz (1.1 kB)\n",
            "  Preparing metadata (setup.py) ... \u001b[?25l\u001b[?25hdone\n",
            "Requirement already satisfied: scikit-learn in /usr/local/lib/python3.10/dist-packages (from sklearn==0.0) (1.2.2)\n",
            "Requirement already satisfied: numpy>=1.17.3 in /usr/local/lib/python3.10/dist-packages (from scikit-learn->sklearn==0.0) (1.25.2)\n",
            "Requirement already satisfied: scipy>=1.3.2 in /usr/local/lib/python3.10/dist-packages (from scikit-learn->sklearn==0.0) (1.11.4)\n",
            "Requirement already satisfied: joblib>=1.1.1 in /usr/local/lib/python3.10/dist-packages (from scikit-learn->sklearn==0.0) (1.3.2)\n",
            "Requirement already satisfied: threadpoolctl>=2.0.0 in /usr/local/lib/python3.10/dist-packages (from scikit-learn->sklearn==0.0) (3.3.0)\n",
            "Building wheels for collected packages: sklearn\n",
            "  Building wheel for sklearn (setup.py) ... \u001b[?25l\u001b[?25hdone\n",
            "  Created wheel for sklearn: filename=sklearn-0.0-py2.py3-none-any.whl size=1303 sha256=45f2c7fc5e942602cd1328d698153ca8958e6d221ca02f4e5b6047bd13c0e1b6\n",
            "  Stored in directory: /root/.cache/pip/wheels/9b/13/01/6f3a7fd641f90e1f6c8c7cded057f3394f451f340371c68f3d\n",
            "Successfully built sklearn\n",
            "Installing collected packages: install, sklearn\n",
            "Successfully installed install-1.3.5 sklearn-0.0\n",
            "Collecting nina-helper\n",
            "  Downloading nina_helper-2.4-py3-none-any.whl (8.0 kB)\n",
            "Requirement already satisfied: numpy in /usr/local/lib/python3.10/dist-packages (from nina-helper) (1.25.2)\n",
            "Requirement already satisfied: scipy in /usr/local/lib/python3.10/dist-packages (from nina-helper) (1.11.4)\n",
            "Requirement already satisfied: sklearn in /usr/local/lib/python3.10/dist-packages (from nina-helper) (0.0)\n",
            "Requirement already satisfied: scikit-learn in /usr/local/lib/python3.10/dist-packages (from sklearn->nina-helper) (1.2.2)\n",
            "Requirement already satisfied: joblib>=1.1.1 in /usr/local/lib/python3.10/dist-packages (from scikit-learn->sklearn->nina-helper) (1.3.2)\n",
            "Requirement already satisfied: threadpoolctl>=2.0.0 in /usr/local/lib/python3.10/dist-packages (from scikit-learn->sklearn->nina-helper) (3.3.0)\n",
            "Installing collected packages: nina-helper\n",
            "Successfully installed nina-helper-2.4\n",
            "Requirement already satisfied: PyWavelets in /usr/local/lib/python3.10/dist-packages (1.5.0)\n",
            "Requirement already satisfied: numpy<2.0,>=1.22.4 in /usr/local/lib/python3.10/dist-packages (from PyWavelets) (1.25.2)\n",
            "Collecting scikit-optimize\n",
            "  Downloading scikit_optimize-0.9.0-py2.py3-none-any.whl (100 kB)\n",
            "\u001b[2K     \u001b[90m━━━━━━━━━━━━━━━━━━━━━━━━━━━━━━━━━━━━━━━━\u001b[0m \u001b[32m100.3/100.3 kB\u001b[0m \u001b[31m3.1 MB/s\u001b[0m eta \u001b[36m0:00:00\u001b[0m\n",
            "\u001b[?25hRequirement already satisfied: joblib>=0.11 in /usr/local/lib/python3.10/dist-packages (from scikit-optimize) (1.3.2)\n",
            "Collecting pyaml>=16.9 (from scikit-optimize)\n",
            "  Downloading pyaml-23.12.0-py3-none-any.whl (23 kB)\n",
            "Requirement already satisfied: numpy>=1.13.3 in /usr/local/lib/python3.10/dist-packages (from scikit-optimize) (1.25.2)\n",
            "Requirement already satisfied: scipy>=0.19.1 in /usr/local/lib/python3.10/dist-packages (from scikit-optimize) (1.11.4)\n",
            "Requirement already satisfied: scikit-learn>=0.20.0 in /usr/local/lib/python3.10/dist-packages (from scikit-optimize) (1.2.2)\n",
            "Requirement already satisfied: PyYAML in /usr/local/lib/python3.10/dist-packages (from pyaml>=16.9->scikit-optimize) (6.0.1)\n",
            "Requirement already satisfied: threadpoolctl>=2.0.0 in /usr/local/lib/python3.10/dist-packages (from scikit-learn>=0.20.0->scikit-optimize) (3.3.0)\n",
            "Installing collected packages: pyaml, scikit-optimize\n",
            "Successfully installed pyaml-23.12.0 scikit-optimize-0.9.0\n"
          ]
        }
      ],
      "source": [
        "%pip install pip install sklearn==0.0\n",
        "%pip install nina-helper\n",
        "%pip install PyWavelets\n",
        "%pip install scikit-optimize"
      ]
    },
    {
      "cell_type": "code",
      "execution_count": 41,
      "metadata": {
        "id": "Ac-TjI1vSQjI"
      },
      "outputs": [],
      "source": [
        "from functools import reduce\n",
        "from IPython.utils import io\n",
        "from itertools import cycle\n",
        "import joblib\n",
        "import matplotlib.pyplot as plt\n",
        "from nina_helper import *\n",
        "import numpy as np\n",
        "import os\n",
        "import pandas as pd\n",
        "from pywt import *\n",
        "from scipy.io import loadmat\n",
        "from scipy import signal, interp\n",
        "import scipy as sp\n",
        "import seaborn as sns\n",
        "from sklearn import svm, metrics\n",
        "from sklearn.datasets import load_digits\n",
        "from sklearn.decomposition import PCA\n",
        "from sklearn.discriminant_analysis import LinearDiscriminantAnalysis\n",
        "from sklearn.ensemble import RandomForestClassifier\n",
        "from sklearn.metrics import confusion_matrix, classification_report, roc_curve, auc, roc_auc_score, balanced_accuracy_score, accuracy_score\n",
        "from sklearn.model_selection import train_test_split, StratifiedKFold, cross_val_score, GridSearchCV, ShuffleSplit, learning_curve, validation_curve\n",
        "from sklearn.multiclass import OneVsRestClassifier\n",
        "from sklearn.preprocessing import StandardScaler, label_binarize\n",
        "from skopt import BayesSearchCV\n",
        "\n",
        "import tensorflow as tf\n",
        "from tensorflow.keras.callbacks import EarlyStopping, ModelCheckpoint\n",
        "from tensorflow.keras.layers import Input, Flatten, Dense, Conv1D, Conv2D, BatchNormalization, MaxPooling1D, MaxPooling2D, ReLU, ELU, LeakyReLU, PReLU, Dropout\n",
        "from tensorflow.keras.models import Model, load_model\n",
        "from tensorflow.keras.optimizers import Adam\n",
        "import tensorboard"
      ]
    },
    {
      "cell_type": "markdown",
      "metadata": {
        "id": "l0iFLXOxdvGZ"
      },
      "source": [
        "# Preprocessing Functions"
      ]
    },
    {
      "cell_type": "code",
      "execution_count": 4,
      "metadata": {
        "id": "NGnRTQE180g1"
      },
      "outputs": [],
      "source": [
        "def get_idxs(in_array, to_find):\n",
        "    \"\"\"Utility function for finding the positions of observations of one array in another an array.\n",
        "\n",
        "    Args:\n",
        "        in_array (array): Array in which to locate elements of to_find\n",
        "        to_find (array): Array of elements to locate in in_array\n",
        "\n",
        "    Returns:\n",
        "        TYPE: Indices of all elements of to_find in in_array\n",
        "    \"\"\"\n",
        "    targets = ([np.where(in_array == x) for x in to_find])\n",
        "    return np.squeeze(np.concatenate(targets, axis=1))"
      ]
    },
    {
      "cell_type": "code",
      "execution_count": 5,
      "metadata": {
        "id": "SZJFEZ2fw51k"
      },
      "outputs": [],
      "source": [
        "def get_percent_reps(df):\n",
        "    df['new_index'] = df.groupby(['gesture', 'reps']).cumcount()\n",
        "    df['%rep'] = df.groupby(['gesture', 'reps'])['new_index'].transform(lambda x: (x / x.max()) * 100)\n",
        "    return df\n",
        "\n",
        "def get_percent_reps_idx(emg_data, reps, movements, train_reps,test_reps, which_moves, train_percent_reps = [0.0,20.0], test_percent_reps=[0.0,20.0]):\n",
        "  combined_data = pd.DataFrame(emg_data)\n",
        "  combined_data['reps'] = reps\n",
        "  combined_data['gesture'] = movements\n",
        "  all_reps = [1,2,3,4,5,6]\n",
        "\n",
        "  # Select only desired gestures and train reps\n",
        "  combined_data=combined_data.iloc[np.where(combined_data.gesture.isin(which_moves))]\n",
        "  combined_data=combined_data.iloc[np.where(combined_data.reps.isin(all_reps))]\n",
        "\n",
        "  # Sort data frame based on gestures and reps\n",
        "  df=combined_data.sort_values(by = ['gesture','reps'])\n",
        "  df=df.reset_index()\n",
        "\n",
        "  # Add the % of each sample for its repetition\n",
        "  df=get_percent_reps(df)\n",
        "\n",
        "  # Select desired percentage of repetitions\n",
        "\n",
        "  train_targets = (df['%rep'] >= train_percent_reps[0]) & (df['%rep'] <= train_percent_reps[1]) & (df.reps.isin(train_reps))\n",
        "  test_targets = (df['%rep'] >= test_percent_reps[0]) & (df['%rep'] <= test_percent_reps[1]) & (df.reps.isin(test_reps))\n",
        "\n",
        "  all_targets = train_targets+test_targets\n",
        "  target_frame = df[all_targets]\n",
        "  target_mat = target_frame.to_numpy()\n",
        "  percent_data_idx = target_mat[:,0].astype(int)\n",
        "\n",
        "\n",
        "  return percent_data_idx\n"
      ]
    },
    {
      "cell_type": "code",
      "execution_count": 6,
      "metadata": {
        "id": "wv4OHXU3QPZf"
      },
      "outputs": [],
      "source": [
        "def filter_data(data, f, butterworth_order = 4, btype='lowpass', fs=2000):\n",
        "  nyquist = fs / 2\n",
        "  if isinstance(f, int):\n",
        "      fc = f / nyquist\n",
        "  else:\n",
        "      fc = [freq / nyquist for freq in f]\n",
        "  b, a = signal.butter(butterworth_order, fc, btype=btype)\n",
        "\n",
        "  # Applying the filter along each channel (zero-phase filtering)\n",
        "  filtered = signal.filtfilt(b, a, data, axis=0)\n",
        "  # signal.lfilter could be used, but introduces phase distortion due to its forward-only processing\n",
        "\n",
        "  return filtered"
      ]
    },
    {
      "cell_type": "code",
      "execution_count": 7,
      "metadata": {
        "id": "bH0AUFvRS6P9"
      },
      "outputs": [],
      "source": [
        "def notch_filter(data, f0, Q, fs=2000):\n",
        "  b, a = signal.iirnotch(f0, Q, fs)\n",
        "\n",
        "  # Applying the filter along each channel (zero-phase filtering)\n",
        "  filtered = signal.filtfilt(b, a, data, axis=0)\n",
        "  # signal.lfilter could be used, but introduces phase distortion due to its forward-only processing\n",
        "\n",
        "  return filtered"
      ]
    },
    {
      "cell_type": "code",
      "execution_count": 8,
      "metadata": {
        "id": "O86fcJWk83lJ"
      },
      "outputs": [],
      "source": [
        "def normalise_emg(emg, reps, train_reps, movements=None, which_moves=None):\n",
        "    \"\"\"Preprocess train+test data to mean 0, std 1 based on training data only.\n",
        "\n",
        "    Args:\n",
        "        emg (array): Raw EMG data\n",
        "        reps (array): Corresponding repetition information for each EMG observation\n",
        "        train_reps (array): Which repetitions are in the training set\n",
        "        movements (array, optional): Movement labels, required if using which_moves\n",
        "        which_moves (array, optional): Which movements to return - if None use all\n",
        "\n",
        "    Returns:\n",
        "        array: Rescaled EMG data\n",
        "    \"\"\"\n",
        "    train_targets = get_idxs(reps, train_reps)\n",
        "\n",
        "    # Keep only selected movement(s)\n",
        "    if which_moves is not None and movements is not None:\n",
        "        move_targets = get_idxs(movements[train_targets], which_moves)\n",
        "        train_targets = train_targets[move_targets]\n",
        "\n",
        "    scaler = StandardScaler(with_mean=True,\n",
        "                            with_std=True,\n",
        "                            copy=False).fit(emg[train_targets, :])\n",
        "\n",
        "    return scaler.transform(emg)"
      ]
    },
    {
      "cell_type": "code",
      "execution_count": 9,
      "metadata": {
        "id": "2aC0Nk_f9IMj"
      },
      "outputs": [],
      "source": [
        "def get_windows(which_reps, window_len, window_inc, emg, movements, repetitons, which_moves=None, dtype=np.float32):\n",
        "    \"\"\"Get set of windows based on repetition and movement criteria and associated label + repetition data.\n",
        "    Args:\n",
        "        which_reps (array): Which repetitions to return\n",
        "        window_len (int): Desired window length\n",
        "        window_inc (int): Desired window increment\n",
        "        emg (array): EMG data (should be normalise beforehand)\n",
        "        movements (array): Movement labels\n",
        "        repetitons (array): Repetition labels\n",
        "        which_moves (array, optional): Which movements to return - if None use all\n",
        "        dtype (TYPE, optional): What precision to use for EMG data\n",
        "    Returns:\n",
        "        X_data (array): Windowed EMG data\n",
        "        Y_data (array): Movement label for each window\n",
        "        R_data (array): Repetition label for each window\n",
        "    \"\"\"\n",
        "    nb_obs = emg.shape[0]\n",
        "    nb_channels = emg.shape[1]\n",
        "\n",
        "    # All possible window end locations given an increment size\n",
        "    possible_targets = np.array(range(window_len - 1, nb_obs, window_inc))\n",
        "\n",
        "    targets = nina_helper.get_idxs(repetitons[possible_targets], which_reps)\n",
        "\n",
        "    # Re-adjust back to original range (for indexinging into rep/move)\n",
        "    targets = (window_len - 1) + targets * window_inc\n",
        "\n",
        "    # Keep only selected movement(s)\n",
        "    if which_moves is not None:\n",
        "        move_targets = get_idxs(movements[targets], which_moves)\n",
        "        targets = targets[move_targets]\n",
        "\n",
        "    X_data = np.zeros([targets.shape[0], window_len, nb_channels],\n",
        "                      dtype=dtype)\n",
        "    Y_data = np.zeros([targets.shape[0], ], dtype=np.int8)\n",
        "    R_data = np.zeros([targets.shape[0], ], dtype=np.int8)\n",
        "\n",
        "    valid_inds = []\n",
        "    for i, win_end in enumerate(targets):\n",
        "        win_start = win_end - (window_len - 1)\n",
        "        if movements[win_start] == movements[win_end]:\n",
        "            X_data[i, ...] = emg[win_start:win_end + 1, :]  # Include end\n",
        "            Y_data[i] = movements[win_end]\n",
        "            R_data[i] = repetitons[win_end]\n",
        "            valid_inds.append(i)\n",
        "\n",
        "    return X_data[np.array(valid_inds)], Y_data[np.array(valid_inds)], R_data[np.array(valid_inds)]"
      ]
    },
    {
      "cell_type": "code",
      "execution_count": 10,
      "metadata": {
        "id": "m4XHbNuG0VdU"
      },
      "outputs": [],
      "source": [
        "def get_categorical(y):\n",
        "    return pd.get_dummies(pd.Series(y)).values"
      ]
    },
    {
      "cell_type": "markdown",
      "metadata": {
        "id": "o9OBDn4DOFas"
      },
      "source": [
        "# Model and Training Functions"
      ]
    },
    {
      "cell_type": "code",
      "execution_count": 11,
      "metadata": {
        "id": "sr6JxrGjg_hp"
      },
      "outputs": [],
      "source": [
        "def MLP(X_train, num_classes=17):\n",
        "    inputs = Input(shape=X_train.shape[1:])\n",
        "\n",
        "    # Flatten the input\n",
        "    x = Flatten()(inputs)\n",
        "\n",
        "    # First dense block\n",
        "    x = Dense(256, kernel_regularizer=tf.keras.regularizers.l2())(x)\n",
        "    x = BatchNormalization()(x)\n",
        "    x = ReLU()(x)\n",
        "    x = Dropout(0.2)(x)\n",
        "\n",
        "    # Second dense block\n",
        "    x = Dense(128, kernel_regularizer=tf.keras.regularizers.l2())(x)\n",
        "    x = BatchNormalization()(x)\n",
        "    x = ReLU()(x)\n",
        "    x = Dropout(0.2)(x)\n",
        "\n",
        "    # Third dense block\n",
        "    x = Dense(64, kernel_regularizer=tf.keras.regularizers.l2())(x)\n",
        "    x = BatchNormalization()(x)\n",
        "    x = ReLU()(x)\n",
        "    x = Dropout(0.2)(x)\n",
        "\n",
        "    # Output layer\n",
        "    outputs = Dense(num_classes, activation='softmax')(x)\n",
        "\n",
        "    model = Model(inputs=inputs,\n",
        "                  outputs=outputs,\n",
        "                  name = 'MLP')\n",
        "    return model"
      ]
    },
    {
      "cell_type": "code",
      "execution_count": 51,
      "metadata": {
        "id": "Tr0mkteaOIug"
      },
      "outputs": [],
      "source": [
        "def CNN_1D(X_train, num_classes=17):\n",
        "    inputs = Input(shape=X_train.shape[1:])\n",
        "\n",
        "    # CNN Block 1\n",
        "    x = Conv1D(64, kernel_size=5, padding='same', kernel_regularizer=tf.keras.regularizers.l2(0.001))(inputs)\n",
        "    x = BatchNormalization()(x)\n",
        "    x = PReLU()(x)\n",
        "    x = MaxPooling1D(pool_size=2)(x)  # Reduce dimensionality\n",
        "\n",
        "    # CNN Block 2\n",
        "    x = Conv1D(128, kernel_size=5, dilation_rate=2, padding='same', kernel_regularizer=tf.keras.regularizers.l2(0.001))(x)\n",
        "    x = BatchNormalization()(x)\n",
        "    x = PReLU()(x)\n",
        "    x = MaxPooling1D(pool_size=2)(x)  # Further reduce dimensionality\n",
        "\n",
        "    # Flatten the output\n",
        "    x = Flatten()(x)\n",
        "\n",
        "    # Classifier block\n",
        "    x = Dense(64, activation='tanh')(x)\n",
        "    x = Dropout(0.2)(x)\n",
        "    x = Dense(32, activation='tanh')(x)\n",
        "    x = Dropout(0.2)(x)\n",
        "    outputs = Dense(num_classes, activation='softmax')(x)\n",
        "\n",
        "    model = Model(inputs=inputs,\n",
        "                  outputs=outputs,\n",
        "                  name='CNN_1D')\n",
        "    return model"
      ]
    },
    {
      "cell_type": "code",
      "execution_count": 117,
      "metadata": {
        "id": "oUSQZM3MeQIr"
      },
      "outputs": [],
      "source": [
        "def CNN_2D(X_train, num_classes=17):\n",
        "    inputs = Input(shape=X_train.shape[1:])\n",
        "\n",
        "    # CNN Block 1\n",
        "    x = Conv2D(32, kernel_size=(3,3), padding='same', kernel_regularizer=tf.keras.regularizers.l2(0.001))(inputs)\n",
        "    x = BatchNormalization()(x)\n",
        "    x = PReLU()(x)\n",
        "    x = MaxPooling2D(pool_size=(2, 2))(x)  # Reduce spatial dimensions\n",
        "\n",
        "    # CNN Block 2\n",
        "    x = Conv2D(64, kernel_size=(3,3), dilation_rate=(2, 2), padding='same', kernel_regularizer=tf.keras.regularizers.l2(0.001))(x)\n",
        "    x = BatchNormalization()(x)\n",
        "    x = PReLU()(x)\n",
        "    x = MaxPooling2D(pool_size=(2, 1))(x)  # Further reduce spatial dimensions\n",
        "\n",
        "    # CNN Block 3\n",
        "    x = Conv2D(128, kernel_size=(3,3), dilation_rate=(4, 2), padding='same', kernel_regularizer=tf.keras.regularizers.l2(0.001))(x)\n",
        "    x = BatchNormalization()(x)\n",
        "    x = PReLU()(x)\n",
        "    x = MaxPooling2D(pool_size=(2, 2))(x)  # Further reduce spatial dimensions\n",
        "\n",
        "    # Flatten the output\n",
        "    x = Flatten()(x)\n",
        "\n",
        "    # Classifier block\n",
        "    x = Dense(64, activation='tanh')(x)\n",
        "    x = Dropout(0.2)(x)\n",
        "    x = Dense(32, activation='tanh')(x)\n",
        "    x = Dropout(0.2)(x)\n",
        "    outputs = Dense(num_classes, activation='softmax')(x)\n",
        "\n",
        "    model = Model(inputs=inputs,\n",
        "                  outputs=outputs,\n",
        "                  name='CNN_2D')\n",
        "    return model\n"
      ]
    },
    {
      "cell_type": "code",
      "execution_count": 14,
      "metadata": {
        "id": "-ZpmhRxw_bGy"
      },
      "outputs": [],
      "source": [
        "def create_compiled_model(X_train, y_train, initial_learning_rate, selected_model = \"MLP\"):\n",
        "  num_classes = y_train.shape[1]\n",
        "  if selected_model == \"MLP\":\n",
        "    model = MLP(X_train, num_classes)\n",
        "  elif selected_model == \"CNN_1D\":\n",
        "    model = CNN_1D(X_train, num_classes)\n",
        "  elif selected_model == \"CNN_2D\":\n",
        "    model = CNN_2D(X_train, num_classes)\n",
        "  else:\n",
        "    print(\"selected_model must be either 'MLP', 'CNN_1D', or 'CNN_2D'\")\n",
        "\n",
        "  opt_adam = Adam(learning_rate=initial_learning_rate, beta_1=0.9, beta_2=0.999, epsilon=1e-08)\n",
        "  model.compile(loss='categorical_crossentropy' , optimizer=opt_adam, metrics=['categorical_accuracy'])\n",
        "\n",
        "  return model"
      ]
    },
    {
      "cell_type": "code",
      "execution_count": 15,
      "metadata": {
        "id": "MRMXyZ38OmMS"
      },
      "outputs": [],
      "source": [
        "def train_model(model, X_train, y_train, X_test, y_test, save_to, batch_size= 32, epochs = 2):\n",
        "\n",
        "        es = EarlyStopping(monitor='val_loss', mode='min', verbose=1, patience=30)\n",
        "        mc = ModelCheckpoint(save_to + '_best_model.h5',\n",
        "             monitor='val_categorical_accuracy', mode='max', verbose=1, save_best_only=True)\n",
        "\n",
        "        history = model.fit(X_train, y_train, batch_size = batch_size, epochs = epochs,  shuffle=True,\n",
        "                              verbose=1, validation_data=(X_test,y_test), callbacks=[es,mc])\n",
        "\n",
        "        saved_model = load_model(save_to + '_best_model.h5')\n",
        "\n",
        "        # evaluate the model\n",
        "        _, train_acc = saved_model.evaluate(X_train, y_train, verbose=1)\n",
        "        _, test_acc = saved_model.evaluate(X_test, y_test, verbose=1)\n",
        "        print('Train: %.3f, Test: %.3f' % (train_acc, test_acc))\n",
        "\n",
        "        return history,saved_model"
      ]
    },
    {
      "cell_type": "markdown",
      "metadata": {
        "id": "8bS-jdVCd7AF"
      },
      "source": [
        "# Data Construction"
      ]
    },
    {
      "cell_type": "code",
      "execution_count": 16,
      "metadata": {
        "id": "8N5QOnXMSCuF"
      },
      "outputs": [],
      "source": [
        "db2_path = \"/my/path/to/DB2\""
      ]
    },
    {
      "cell_type": "code",
      "execution_count": 17,
      "metadata": {
        "id": "N74T-xIrvq5v"
      },
      "outputs": [],
      "source": [
        "# Choose subject and get info\n",
        "subject = 1\n",
        "info_dict = db2_info()  # Get info\n",
        "\n",
        "# Get EMG, repetition and movement data, cap max length of rest data before and after each movement to 5 seconds\n",
        "# Capping occurs by reducing the size of repetition segments since splitting is based on repetition number\n",
        "data_dict = nina_helper.import_db2(db2_path, subject, rest_length_cap=5)\n",
        "\n",
        "# train-test split based on repetition number (specify a set to include)\n",
        "train_reps = [1,3,4,6]\n",
        "test_reps = [2,5]\n",
        "all_reps = [1,2,3,4,5,6]\n",
        "\n",
        "# Selected Gestures (which_moves (array, optional): Which movements to return - if None use all)\n",
        "# Gesture 0 is rest\n",
        "# Gestures 1-17 are the Exercise B gestures\n",
        "moves = np.arange(1,17+1,1)\n",
        "\n",
        "# Assuming 5 sec Repetition, this would be the first sec\n",
        "# Percent split of each repetition\n",
        "data_split = [0.0,20.0]\n",
        "\n",
        "\n",
        "# Find the indexes of the samples within a desired percentage of the train reps\n",
        "percent_reps_idx = get_percent_reps_idx(data_dict['emg'], data_dict['rep'], data_dict['move'],\n",
        "                                        train_reps, test_reps, which_moves=moves,\n",
        "                                        train_percent_reps = data_split, test_percent_reps=data_split)\n",
        "\n",
        "emg_data = data_dict['emg'][percent_reps_idx]\n",
        "rep_labels = data_dict['rep'][percent_reps_idx]\n",
        "move_labels = data_dict['move'][percent_reps_idx]"
      ]
    },
    {
      "cell_type": "code",
      "execution_count": 18,
      "metadata": {
        "colab": {
          "base_uri": "https://localhost:8080/"
        },
        "id": "zDOu7prz92zM",
        "outputId": "f252af5b-ece7-43e8-d5c3-5278324e57d5"
      },
      "outputs": [
        {
          "data": {
            "text/plain": [
              "(array([1, 2, 3, 4, 5, 6], dtype=int8),\n",
              " array([27048, 25227, 24231, 23635, 23851, 24799]))"
            ]
          },
          "execution_count": 18,
          "metadata": {},
          "output_type": "execute_result"
        }
      ],
      "source": [
        "np.unique(rep_labels, return_counts = True)"
      ]
    },
    {
      "cell_type": "code",
      "execution_count": 19,
      "metadata": {
        "colab": {
          "base_uri": "https://localhost:8080/"
        },
        "id": "ceD8aMlF9sVa",
        "outputId": "c9e68d9b-4413-411f-9eb4-e640a0eab5cc"
      },
      "outputs": [
        {
          "data": {
            "text/plain": [
              "(array([ 1,  2,  3,  4,  5,  6,  7,  8,  9, 10, 11, 12, 13, 14, 15, 16, 17],\n",
              "       dtype=int8),\n",
              " array([15742, 11797, 10199,  9016,  8028,  5114, 11634,  5651,  7985,\n",
              "         9038,  8717,  8805,  7865,  7430,  4723,  8859,  8188]))"
            ]
          },
          "execution_count": 19,
          "metadata": {},
          "output_type": "execute_result"
        }
      ],
      "source": [
        "np.unique(move_labels, return_counts = True)"
      ]
    },
    {
      "cell_type": "code",
      "execution_count": 20,
      "metadata": {
        "id": "EF6jfr7RTpCW"
      },
      "outputs": [],
      "source": [
        "# Filter\n",
        "emg_band = filter_data(data=emg_data, f=(20,500), butterworth_order=4, btype='bandpass', fs=2000)\n",
        "emg_notch = notch_filter(data=emg_band,f0=60,Q=30,fs=2000)  # Powerline frequency, 50Hz in Europe, 60Hz in USA"
      ]
    },
    {
      "cell_type": "code",
      "execution_count": 21,
      "metadata": {
        "id": "CzQHbpeC0WtG"
      },
      "outputs": [],
      "source": [
        "# Normalise EMG data based on training set (Z-score Normalization)\n",
        "emg_normalized = normalise_emg(emg_notch, rep_labels, train_reps, move_labels, which_moves=moves)"
      ]
    },
    {
      "cell_type": "code",
      "execution_count": 22,
      "metadata": {
        "id": "Ara2xxxetx4X"
      },
      "outputs": [],
      "source": [
        "# Rectify (optional)\n",
        "#emg_rectified = abs(emg_normalized)"
      ]
    },
    {
      "cell_type": "code",
      "execution_count": 23,
      "metadata": {
        "colab": {
          "base_uri": "https://localhost:8080/"
        },
        "id": "G7Sh70ZWUScv",
        "outputId": "7d677969-efd2-480e-f1e0-563ac3b4c531"
      },
      "outputs": [
        {
          "name": "stdout",
          "output_type": "stream",
          "text": [
            "(4482, 600, 12, 1) (2448, 600, 12, 1) (4482,) (2448,)\n"
          ]
        }
      ],
      "source": [
        "# Decide window length\n",
        "window_len = 600  # Equivalent to 300ms\n",
        "window_inc = 20   # 10ms increments -> 96.66% overlap\n",
        "\n",
        "# Window data: x_all data is 4D tensor [observation, time_step, channel, 1] for use with Keras\n",
        "#y_all: movement label, length: number of windows\n",
        "#r_all: repetition label, length: number of windows\n",
        "\n",
        "x_all, y_all, r_all = get_windows(all_reps, window_len, window_inc,\n",
        "                                  emg_normalized, move_labels,\n",
        "                                  rep_labels)\n",
        "\n",
        "train_idx = get_idxs(r_all, train_reps)\n",
        "X_train = x_all[train_idx][...,np.newaxis]\n",
        "y_train = y_all[train_idx]\n",
        "\n",
        "test_idx = get_idxs(r_all, test_reps)\n",
        "X_test =  x_all[test_idx][...,np.newaxis]\n",
        "y_test = y_all[test_idx]\n",
        "\n",
        "print(X_train.shape, X_test.shape, y_train.shape, y_test.shape)"
      ]
    },
    {
      "cell_type": "code",
      "execution_count": 24,
      "metadata": {
        "id": "jO71osHr9zYf"
      },
      "outputs": [],
      "source": [
        "y_train = get_categorical(y_train)\n",
        "y_test = get_categorical(y_test)"
      ]
    },
    {
      "cell_type": "code",
      "execution_count": 25,
      "metadata": {
        "colab": {
          "base_uri": "https://localhost:8080/"
        },
        "id": "DaL40WweLtX9",
        "outputId": "0435e8ef-3475-402c-ab5a-f669f568c2ea"
      },
      "outputs": [
        {
          "data": {
            "text/plain": [
              "((4482, 600, 12, 1), (2448, 600, 12, 1), (4482, 17), (2448, 17))"
            ]
          },
          "execution_count": 25,
          "metadata": {},
          "output_type": "execute_result"
        }
      ],
      "source": [
        "X_train.shape, X_test.shape, y_train.shape, y_test.shape"
      ]
    },
    {
      "cell_type": "markdown",
      "metadata": {
        "id": "zEJ58bHu79Bi"
      },
      "source": [
        "## SET CURRENT DIRECTORY FOR SAVING DATA"
      ]
    },
    {
      "cell_type": "code",
      "execution_count": 26,
      "metadata": {
        "id": "aaCzDviV79Bn"
      },
      "outputs": [],
      "source": [
        "os.chdir('/content')"
      ]
    },
    {
      "cell_type": "code",
      "execution_count": 27,
      "metadata": {
        "id": "aWJkodN9eKvj"
      },
      "outputs": [],
      "source": [
        "# Save Data\n",
        "np.save(f'subject{subject}_train_matrix.npy', X_train)\n",
        "np.save(f'subject{subject}_test_matrix.npy', X_test)\n",
        "\n",
        "np.save(f'subject{subject}_train_labels.npy', y_train)\n",
        "np.save(f'subject{subject}_test_labels.npy', y_test)"
      ]
    },
    {
      "cell_type": "markdown",
      "metadata": {
        "id": "GiIXIL3VaFWz"
      },
      "source": [
        "# Data Loading"
      ]
    },
    {
      "cell_type": "code",
      "execution_count": 62,
      "metadata": {
        "id": "vJY53eFbcwhX"
      },
      "outputs": [],
      "source": [
        "subject = 1\n",
        "\n",
        "X_train = np.load(f'subject{subject}_train_matrix.npy')\n",
        "X_test = np.load(f'subject{subject}_test_matrix.npy')\n",
        "\n",
        "y_train = np.load(f'subject{subject}_train_labels.npy')\n",
        "y_test = np.load(f'subject{subject}_test_labels.npy')"
      ]
    },
    {
      "cell_type": "markdown",
      "metadata": {
        "id": "dDrJtWs1PkGn"
      },
      "source": [
        "# Enable TPU/GPU"
      ]
    },
    {
      "cell_type": "code",
      "execution_count": 29,
      "metadata": {
        "colab": {
          "base_uri": "https://localhost:8080/"
        },
        "execution": {
          "iopub.execute_input": "2021-11-04T10:59:48.985941Z",
          "iopub.status.busy": "2021-11-04T10:59:48.985477Z",
          "iopub.status.idle": "2021-11-04T10:59:49.010575Z",
          "shell.execute_reply": "2021-11-04T10:59:49.009685Z",
          "shell.execute_reply.started": "2021-11-04T10:59:48.985905Z"
        },
        "id": "zQlU8E2LFBbs",
        "outputId": "fa553c6f-b27a-4cbf-c75f-ae266d6d732a",
        "trusted": true
      },
      "outputs": [
        {
          "name": "stdout",
          "output_type": "stream",
          "text": [
            "Number of accelerators:  1\n"
          ]
        }
      ],
      "source": [
        "try: # detect TPUs\n",
        "    tpu = tf.distribute.cluster_resolver.TPUClusterResolver.connect() # TPU detection\n",
        "    strategy = tf.distribute.TPUStrategy(tpu)\n",
        "except ValueError: # detect GPUs\n",
        "    strategy = tf.distribute.MirroredStrategy() # for GPU or multi-GPU machines\n",
        "    strategy = tf.distribute.get_strategy() # default strategy that works on CPU and single GPU\n",
        "    #strategy = tf.distribute.experimental.MultiWorkerMirroredStrategy() # for clusters of multi-GPU machines\n",
        "\n",
        "print(\"Number of accelerators: \", strategy.num_replicas_in_sync)"
      ]
    },
    {
      "cell_type": "markdown",
      "metadata": {
        "id": "o7JdF4NJ5zfN"
      },
      "source": [
        "# Train Model"
      ]
    },
    {
      "cell_type": "code",
      "execution_count": 135,
      "metadata": {
        "id": "BBN8_ArNN65L"
      },
      "outputs": [],
      "source": [
        "# Hyper-parameters\n",
        "epochs = 100\n",
        "initial_learning_rate = 1e-4\n",
        "batch_size = 128\n",
        "subject = 1"
      ]
    },
    {
      "cell_type": "code",
      "execution_count": 136,
      "metadata": {
        "colab": {
          "base_uri": "https://localhost:8080/"
        },
        "execution": {
          "iopub.execute_input": "2021-11-04T10:59:49.011752Z",
          "iopub.status.busy": "2021-11-04T10:59:49.011523Z",
          "iopub.status.idle": "2021-11-04T10:59:49.310002Z",
          "shell.execute_reply": "2021-11-04T10:59:49.309322Z",
          "shell.execute_reply.started": "2021-11-04T10:59:49.011700Z"
        },
        "id": "TO-GGj8-FBbu",
        "outputId": "54ba9a19-a495-4195-dd37-bb44315d81ef",
        "trusted": true
      },
      "outputs": [
        {
          "name": "stdout",
          "output_type": "stream",
          "text": [
            "Model: \"CNN_1D\"\n",
            "_________________________________________________________________\n",
            " Layer (type)                Output Shape              Param #   \n",
            "=================================================================\n",
            " input_36 (InputLayer)       [(None, 600, 12)]         0         \n",
            "                                                                 \n",
            " conv1d_17 (Conv1D)          (None, 600, 64)           3904      \n",
            "                                                                 \n",
            " batch_normalization_74 (Ba  (None, 600, 64)           256       \n",
            " tchNormalization)                                               \n",
            "                                                                 \n",
            " p_re_lu_68 (PReLU)          (None, 600, 64)           38400     \n",
            "                                                                 \n",
            " max_pooling1d_15 (MaxPooli  (None, 300, 64)           0         \n",
            " ng1D)                                                           \n",
            "                                                                 \n",
            " conv1d_18 (Conv1D)          (None, 300, 128)          41088     \n",
            "                                                                 \n",
            " batch_normalization_75 (Ba  (None, 300, 128)          512       \n",
            " tchNormalization)                                               \n",
            "                                                                 \n",
            " p_re_lu_69 (PReLU)          (None, 300, 128)          38400     \n",
            "                                                                 \n",
            " max_pooling1d_16 (MaxPooli  (None, 150, 128)          0         \n",
            " ng1D)                                                           \n",
            "                                                                 \n",
            " flatten_33 (Flatten)        (None, 19200)             0         \n",
            "                                                                 \n",
            " dense_101 (Dense)           (None, 64)                1228864   \n",
            "                                                                 \n",
            " dropout_68 (Dropout)        (None, 64)                0         \n",
            "                                                                 \n",
            " dense_102 (Dense)           (None, 32)                2080      \n",
            "                                                                 \n",
            " dropout_69 (Dropout)        (None, 32)                0         \n",
            "                                                                 \n",
            " dense_103 (Dense)           (None, 17)                561       \n",
            "                                                                 \n",
            "=================================================================\n",
            "Total params: 1354065 (5.17 MB)\n",
            "Trainable params: 1353681 (5.16 MB)\n",
            "Non-trainable params: 384 (1.50 KB)\n",
            "_________________________________________________________________\n"
          ]
        }
      ],
      "source": [
        "# Pick from \"MLP\", \"CNN_1D\", \"CNN_2D\"\n",
        "selected_model = \"CNN_1D\"\n",
        "\n",
        "if selected_model == \"CNN_1D\" and len(X_train.shape)==4:\n",
        "  X_train = X_train.squeeze()\n",
        "  X_test = X_test.squeeze()\n",
        "elif selected_model == \"CNN_2D\" and len(X_train.shape)==3:\n",
        "  X_train = X_train[...,np.newaxis]\n",
        "  X_test = X_test[...,np.newaxis]\n",
        "\n",
        "with strategy.scope(): # creating the model in the scope places the model on the detected device(s)\n",
        "    model = create_compiled_model(X_train, y_train, initial_learning_rate, selected_model)\n",
        "model.summary()"
      ]
    },
    {
      "cell_type": "markdown",
      "metadata": {
        "id": "2W_DAfj17ebC"
      },
      "source": [
        "## SET CURRENT DIRECTORY FOR SAVING MODEL/RESULTS"
      ]
    },
    {
      "cell_type": "code",
      "execution_count": 137,
      "metadata": {
        "id": "GbgD6LaG7ebH"
      },
      "outputs": [],
      "source": [
        "os.chdir('/content')"
      ]
    },
    {
      "cell_type": "code",
      "execution_count": 138,
      "metadata": {
        "colab": {
          "base_uri": "https://localhost:8080/"
        },
        "id": "p6dJ5AznPai-",
        "outputId": "219e971a-6c26-4162-ca3e-dbf3101beeb2"
      },
      "outputs": [
        {
          "name": "stdout",
          "output_type": "stream",
          "text": [
            "Epoch 1/100\n",
            "35/36 [============================>.] - ETA: 0s - loss: 2.6313 - categorical_accuracy: 0.1837\n",
            "Epoch 1: val_categorical_accuracy improved from -inf to 0.13113, saving model to CNN_1D_best_model.h5\n",
            "36/36 [==============================] - 4s 42ms/step - loss: 2.6310 - categorical_accuracy: 0.1838 - val_loss: 2.7398 - val_categorical_accuracy: 0.1311\n",
            "Epoch 2/100\n",
            " 4/36 [==>...........................] - ETA: 0s - loss: 2.3630 - categorical_accuracy: 0.2695"
          ]
        },
        {
          "name": "stderr",
          "output_type": "stream",
          "text": [
            "/usr/local/lib/python3.10/dist-packages/keras/src/engine/training.py:3103: UserWarning: You are saving your model as an HDF5 file via `model.save()`. This file format is considered legacy. We recommend using instead the native Keras format, e.g. `model.save('my_model.keras')`.\n",
            "  saving_api.save_model(\n"
          ]
        },
        {
          "name": "stdout",
          "output_type": "stream",
          "text": [
            "34/36 [===========================>..] - ETA: 0s - loss: 2.2870 - categorical_accuracy: 0.2877\n",
            "Epoch 2: val_categorical_accuracy improved from 0.13113 to 0.31373, saving model to CNN_1D_best_model.h5\n",
            "36/36 [==============================] - 1s 29ms/step - loss: 2.2844 - categorical_accuracy: 0.2900 - val_loss: 2.3309 - val_categorical_accuracy: 0.3137\n",
            "Epoch 3/100\n",
            "34/36 [===========================>..] - ETA: 0s - loss: 2.0780 - categorical_accuracy: 0.3653\n",
            "Epoch 3: val_categorical_accuracy improved from 0.31373 to 0.34926, saving model to CNN_1D_best_model.h5\n",
            "36/36 [==============================] - 1s 29ms/step - loss: 2.0734 - categorical_accuracy: 0.3675 - val_loss: 2.1176 - val_categorical_accuracy: 0.3493\n",
            "Epoch 4/100\n",
            "34/36 [===========================>..] - ETA: 0s - loss: 1.9666 - categorical_accuracy: 0.4090\n",
            "Epoch 4: val_categorical_accuracy improved from 0.34926 to 0.37010, saving model to CNN_1D_best_model.h5\n",
            "36/36 [==============================] - 1s 29ms/step - loss: 1.9669 - categorical_accuracy: 0.4090 - val_loss: 2.0086 - val_categorical_accuracy: 0.3701\n",
            "Epoch 5/100\n",
            "34/36 [===========================>..] - ETA: 0s - loss: 1.8411 - categorical_accuracy: 0.4699\n",
            "Epoch 5: val_categorical_accuracy improved from 0.37010 to 0.42116, saving model to CNN_1D_best_model.h5\n",
            "36/36 [==============================] - 1s 29ms/step - loss: 1.8375 - categorical_accuracy: 0.4710 - val_loss: 1.9154 - val_categorical_accuracy: 0.4212\n",
            "Epoch 6/100\n",
            "34/36 [===========================>..] - ETA: 0s - loss: 1.7115 - categorical_accuracy: 0.5322\n",
            "Epoch 6: val_categorical_accuracy did not improve from 0.42116\n",
            "36/36 [==============================] - 1s 27ms/step - loss: 1.7110 - categorical_accuracy: 0.5335 - val_loss: 1.8707 - val_categorical_accuracy: 0.4183\n",
            "Epoch 7/100\n",
            "34/36 [===========================>..] - ETA: 0s - loss: 1.6220 - categorical_accuracy: 0.5882\n",
            "Epoch 7: val_categorical_accuracy improved from 0.42116 to 0.46242, saving model to CNN_1D_best_model.h5\n",
            "36/36 [==============================] - 1s 29ms/step - loss: 1.6218 - categorical_accuracy: 0.5890 - val_loss: 1.8489 - val_categorical_accuracy: 0.4624\n",
            "Epoch 8/100\n",
            "34/36 [===========================>..] - ETA: 0s - loss: 1.5350 - categorical_accuracy: 0.6257\n",
            "Epoch 8: val_categorical_accuracy improved from 0.46242 to 0.46405, saving model to CNN_1D_best_model.h5\n",
            "36/36 [==============================] - 1s 29ms/step - loss: 1.5362 - categorical_accuracy: 0.6243 - val_loss: 1.7797 - val_categorical_accuracy: 0.4641\n",
            "Epoch 9/100\n",
            "34/36 [===========================>..] - ETA: 0s - loss: 1.4434 - categorical_accuracy: 0.6693\n",
            "Epoch 9: val_categorical_accuracy improved from 0.46405 to 0.50572, saving model to CNN_1D_best_model.h5\n",
            "36/36 [==============================] - 1s 29ms/step - loss: 1.4454 - categorical_accuracy: 0.6673 - val_loss: 1.7425 - val_categorical_accuracy: 0.5057\n",
            "Epoch 10/100\n",
            "34/36 [===========================>..] - ETA: 0s - loss: 1.3949 - categorical_accuracy: 0.6997\n",
            "Epoch 10: val_categorical_accuracy improved from 0.50572 to 0.53799, saving model to CNN_1D_best_model.h5\n",
            "36/36 [==============================] - 1s 29ms/step - loss: 1.3925 - categorical_accuracy: 0.7004 - val_loss: 1.6591 - val_categorical_accuracy: 0.5380\n",
            "Epoch 11/100\n",
            "34/36 [===========================>..] - ETA: 0s - loss: 1.2908 - categorical_accuracy: 0.7339\n",
            "Epoch 11: val_categorical_accuracy improved from 0.53799 to 0.56536, saving model to CNN_1D_best_model.h5\n",
            "36/36 [==============================] - 1s 30ms/step - loss: 1.2895 - categorical_accuracy: 0.7354 - val_loss: 1.6254 - val_categorical_accuracy: 0.5654\n",
            "Epoch 12/100\n",
            "34/36 [===========================>..] - ETA: 0s - loss: 1.2662 - categorical_accuracy: 0.7551\n",
            "Epoch 12: val_categorical_accuracy improved from 0.56536 to 0.58987, saving model to CNN_1D_best_model.h5\n",
            "36/36 [==============================] - 1s 29ms/step - loss: 1.2642 - categorical_accuracy: 0.7561 - val_loss: 1.5817 - val_categorical_accuracy: 0.5899\n",
            "Epoch 13/100\n",
            "34/36 [===========================>..] - ETA: 0s - loss: 1.2170 - categorical_accuracy: 0.7783\n",
            "Epoch 13: val_categorical_accuracy did not improve from 0.58987\n",
            "36/36 [==============================] - 1s 27ms/step - loss: 1.2169 - categorical_accuracy: 0.7780 - val_loss: 1.6061 - val_categorical_accuracy: 0.5580\n",
            "Epoch 14/100\n",
            "34/36 [===========================>..] - ETA: 0s - loss: 1.1694 - categorical_accuracy: 0.7920\n",
            "Epoch 14: val_categorical_accuracy did not improve from 0.58987\n",
            "36/36 [==============================] - 1s 27ms/step - loss: 1.1681 - categorical_accuracy: 0.7927 - val_loss: 1.5426 - val_categorical_accuracy: 0.5862\n",
            "Epoch 15/100\n",
            "34/36 [===========================>..] - ETA: 0s - loss: 1.1038 - categorical_accuracy: 0.8247\n",
            "Epoch 15: val_categorical_accuracy improved from 0.58987 to 0.60907, saving model to CNN_1D_best_model.h5\n",
            "36/36 [==============================] - 1s 29ms/step - loss: 1.1022 - categorical_accuracy: 0.8260 - val_loss: 1.5126 - val_categorical_accuracy: 0.6091\n",
            "Epoch 16/100\n",
            "34/36 [===========================>..] - ETA: 0s - loss: 1.0376 - categorical_accuracy: 0.8509\n",
            "Epoch 16: val_categorical_accuracy did not improve from 0.60907\n",
            "36/36 [==============================] - 1s 27ms/step - loss: 1.0361 - categorical_accuracy: 0.8516 - val_loss: 1.4880 - val_categorical_accuracy: 0.6054\n",
            "Epoch 17/100\n",
            "34/36 [===========================>..] - ETA: 0s - loss: 1.0044 - categorical_accuracy: 0.8589\n",
            "Epoch 17: val_categorical_accuracy improved from 0.60907 to 0.61356, saving model to CNN_1D_best_model.h5\n",
            "36/36 [==============================] - 1s 29ms/step - loss: 1.0026 - categorical_accuracy: 0.8603 - val_loss: 1.4477 - val_categorical_accuracy: 0.6136\n",
            "Epoch 18/100\n",
            "34/36 [===========================>..] - ETA: 0s - loss: 0.9746 - categorical_accuracy: 0.8768\n",
            "Epoch 18: val_categorical_accuracy did not improve from 0.61356\n",
            "36/36 [==============================] - 1s 27ms/step - loss: 0.9745 - categorical_accuracy: 0.8764 - val_loss: 1.4950 - val_categorical_accuracy: 0.6042\n",
            "Epoch 19/100\n",
            "34/36 [===========================>..] - ETA: 0s - loss: 1.0058 - categorical_accuracy: 0.8589\n",
            "Epoch 19: val_categorical_accuracy improved from 0.61356 to 0.61438, saving model to CNN_1D_best_model.h5\n",
            "36/36 [==============================] - 1s 29ms/step - loss: 1.0027 - categorical_accuracy: 0.8608 - val_loss: 1.4726 - val_categorical_accuracy: 0.6144\n",
            "Epoch 20/100\n",
            "34/36 [===========================>..] - ETA: 0s - loss: 0.9865 - categorical_accuracy: 0.8578\n",
            "Epoch 20: val_categorical_accuracy did not improve from 0.61438\n",
            "36/36 [==============================] - 1s 27ms/step - loss: 0.9837 - categorical_accuracy: 0.8579 - val_loss: 1.4705 - val_categorical_accuracy: 0.6136\n",
            "Epoch 21/100\n",
            "34/36 [===========================>..] - ETA: 0s - loss: 0.8614 - categorical_accuracy: 0.9125\n",
            "Epoch 21: val_categorical_accuracy did not improve from 0.61438\n",
            "36/36 [==============================] - 1s 27ms/step - loss: 0.8588 - categorical_accuracy: 0.9137 - val_loss: 1.4021 - val_categorical_accuracy: 0.6123\n",
            "Epoch 22/100\n",
            "34/36 [===========================>..] - ETA: 0s - loss: 0.8500 - categorical_accuracy: 0.9108\n",
            "Epoch 22: val_categorical_accuracy improved from 0.61438 to 0.64175, saving model to CNN_1D_best_model.h5\n",
            "36/36 [==============================] - 1s 30ms/step - loss: 0.8466 - categorical_accuracy: 0.9119 - val_loss: 1.3628 - val_categorical_accuracy: 0.6417\n",
            "Epoch 23/100\n",
            "34/36 [===========================>..] - ETA: 0s - loss: 0.7595 - categorical_accuracy: 0.9370\n",
            "Epoch 23: val_categorical_accuracy improved from 0.64175 to 0.65441, saving model to CNN_1D_best_model.h5\n",
            "36/36 [==============================] - 1s 29ms/step - loss: 0.7582 - categorical_accuracy: 0.9375 - val_loss: 1.3577 - val_categorical_accuracy: 0.6544\n",
            "Epoch 24/100\n",
            "34/36 [===========================>..] - ETA: 0s - loss: 0.7678 - categorical_accuracy: 0.9301\n",
            "Epoch 24: val_categorical_accuracy did not improve from 0.65441\n",
            "36/36 [==============================] - 1s 27ms/step - loss: 0.7683 - categorical_accuracy: 0.9304 - val_loss: 1.3341 - val_categorical_accuracy: 0.6462\n",
            "Epoch 25/100\n",
            "34/36 [===========================>..] - ETA: 0s - loss: 0.8465 - categorical_accuracy: 0.9014\n",
            "Epoch 25: val_categorical_accuracy did not improve from 0.65441\n",
            "36/36 [==============================] - 1s 27ms/step - loss: 0.8458 - categorical_accuracy: 0.9018 - val_loss: 1.3673 - val_categorical_accuracy: 0.6340\n",
            "Epoch 26/100\n",
            "34/36 [===========================>..] - ETA: 0s - loss: 0.7428 - categorical_accuracy: 0.9393\n",
            "Epoch 26: val_categorical_accuracy improved from 0.65441 to 0.65645, saving model to CNN_1D_best_model.h5\n",
            "36/36 [==============================] - 1s 29ms/step - loss: 0.7423 - categorical_accuracy: 0.9391 - val_loss: 1.3475 - val_categorical_accuracy: 0.6565\n",
            "Epoch 27/100\n",
            "34/36 [===========================>..] - ETA: 0s - loss: 0.7337 - categorical_accuracy: 0.9407\n",
            "Epoch 27: val_categorical_accuracy did not improve from 0.65645\n",
            "36/36 [==============================] - 1s 27ms/step - loss: 0.7321 - categorical_accuracy: 0.9418 - val_loss: 1.3631 - val_categorical_accuracy: 0.6311\n",
            "Epoch 28/100\n",
            "34/36 [===========================>..] - ETA: 0s - loss: 0.7607 - categorical_accuracy: 0.9251\n",
            "Epoch 28: val_categorical_accuracy did not improve from 0.65645\n",
            "36/36 [==============================] - 1s 27ms/step - loss: 0.7596 - categorical_accuracy: 0.9250 - val_loss: 1.3155 - val_categorical_accuracy: 0.6511\n",
            "Epoch 29/100\n",
            "34/36 [===========================>..] - ETA: 0s - loss: 0.6435 - categorical_accuracy: 0.9623\n",
            "Epoch 29: val_categorical_accuracy did not improve from 0.65645\n",
            "36/36 [==============================] - 1s 27ms/step - loss: 0.6429 - categorical_accuracy: 0.9623 - val_loss: 1.2829 - val_categorical_accuracy: 0.6540\n",
            "Epoch 30/100\n",
            "34/36 [===========================>..] - ETA: 0s - loss: 0.6135 - categorical_accuracy: 0.9665\n",
            "Epoch 30: val_categorical_accuracy did not improve from 0.65645\n",
            "36/36 [==============================] - 1s 27ms/step - loss: 0.6131 - categorical_accuracy: 0.9670 - val_loss: 1.3210 - val_categorical_accuracy: 0.6479\n",
            "Epoch 31/100\n",
            "34/36 [===========================>..] - ETA: 0s - loss: 0.6625 - categorical_accuracy: 0.9586\n",
            "Epoch 31: val_categorical_accuracy did not improve from 0.65645\n",
            "36/36 [==============================] - 1s 27ms/step - loss: 0.6612 - categorical_accuracy: 0.9589 - val_loss: 1.3141 - val_categorical_accuracy: 0.6483\n",
            "Epoch 32/100\n",
            "34/36 [===========================>..] - ETA: 0s - loss: 0.6421 - categorical_accuracy: 0.9582\n",
            "Epoch 32: val_categorical_accuracy improved from 0.65645 to 0.67851, saving model to CNN_1D_best_model.h5\n",
            "36/36 [==============================] - 1s 29ms/step - loss: 0.6391 - categorical_accuracy: 0.9592 - val_loss: 1.2551 - val_categorical_accuracy: 0.6785\n",
            "Epoch 33/100\n",
            "34/36 [===========================>..] - ETA: 0s - loss: 0.5638 - categorical_accuracy: 0.9756\n",
            "Epoch 33: val_categorical_accuracy did not improve from 0.67851\n",
            "36/36 [==============================] - 1s 27ms/step - loss: 0.5636 - categorical_accuracy: 0.9750 - val_loss: 1.2311 - val_categorical_accuracy: 0.6761\n",
            "Epoch 34/100\n",
            "34/36 [===========================>..] - ETA: 0s - loss: 0.6430 - categorical_accuracy: 0.9506\n",
            "Epoch 34: val_categorical_accuracy improved from 0.67851 to 0.68546, saving model to CNN_1D_best_model.h5\n",
            "36/36 [==============================] - 1s 29ms/step - loss: 0.6412 - categorical_accuracy: 0.9511 - val_loss: 1.2381 - val_categorical_accuracy: 0.6855\n",
            "Epoch 35/100\n",
            "34/36 [===========================>..] - ETA: 0s - loss: 0.6063 - categorical_accuracy: 0.9658\n",
            "Epoch 35: val_categorical_accuracy did not improve from 0.68546\n",
            "36/36 [==============================] - 1s 27ms/step - loss: 0.6070 - categorical_accuracy: 0.9656 - val_loss: 1.2136 - val_categorical_accuracy: 0.6842\n",
            "Epoch 36/100\n",
            "34/36 [===========================>..] - ETA: 0s - loss: 0.5744 - categorical_accuracy: 0.9699\n",
            "Epoch 36: val_categorical_accuracy did not improve from 0.68546\n",
            "36/36 [==============================] - 1s 27ms/step - loss: 0.5729 - categorical_accuracy: 0.9701 - val_loss: 1.2340 - val_categorical_accuracy: 0.6814\n",
            "Epoch 37/100\n",
            "34/36 [===========================>..] - ETA: 0s - loss: 0.5981 - categorical_accuracy: 0.9671\n",
            "Epoch 37: val_categorical_accuracy did not improve from 0.68546\n",
            "36/36 [==============================] - 1s 27ms/step - loss: 0.5948 - categorical_accuracy: 0.9676 - val_loss: 1.2798 - val_categorical_accuracy: 0.6609\n",
            "Epoch 38/100\n",
            "34/36 [===========================>..] - ETA: 0s - loss: 0.5613 - categorical_accuracy: 0.9699\n",
            "Epoch 38: val_categorical_accuracy improved from 0.68546 to 0.69526, saving model to CNN_1D_best_model.h5\n",
            "36/36 [==============================] - 1s 29ms/step - loss: 0.5605 - categorical_accuracy: 0.9701 - val_loss: 1.1986 - val_categorical_accuracy: 0.6953\n",
            "Epoch 39/100\n",
            "34/36 [===========================>..] - ETA: 0s - loss: 0.5596 - categorical_accuracy: 0.9697\n",
            "Epoch 39: val_categorical_accuracy did not improve from 0.69526\n",
            "36/36 [==============================] - 1s 27ms/step - loss: 0.5580 - categorical_accuracy: 0.9697 - val_loss: 1.2486 - val_categorical_accuracy: 0.6671\n",
            "Epoch 40/100\n",
            "34/36 [===========================>..] - ETA: 0s - loss: 0.6101 - categorical_accuracy: 0.9478\n",
            "Epoch 40: val_categorical_accuracy did not improve from 0.69526\n",
            "36/36 [==============================] - 1s 27ms/step - loss: 0.6085 - categorical_accuracy: 0.9482 - val_loss: 1.2090 - val_categorical_accuracy: 0.6752\n",
            "Epoch 41/100\n",
            "34/36 [===========================>..] - ETA: 0s - loss: 0.5478 - categorical_accuracy: 0.9708\n",
            "Epoch 41: val_categorical_accuracy did not improve from 0.69526\n",
            "36/36 [==============================] - 1s 27ms/step - loss: 0.5479 - categorical_accuracy: 0.9701 - val_loss: 1.2729 - val_categorical_accuracy: 0.6589\n",
            "Epoch 42/100\n",
            "34/36 [===========================>..] - ETA: 0s - loss: 0.5474 - categorical_accuracy: 0.9736\n",
            "Epoch 42: val_categorical_accuracy did not improve from 0.69526\n",
            "36/36 [==============================] - 1s 27ms/step - loss: 0.5462 - categorical_accuracy: 0.9732 - val_loss: 1.2102 - val_categorical_accuracy: 0.6691\n",
            "Epoch 43/100\n",
            "34/36 [===========================>..] - ETA: 0s - loss: 0.4460 - categorical_accuracy: 0.9887\n",
            "Epoch 43: val_categorical_accuracy did not improve from 0.69526\n",
            "36/36 [==============================] - 1s 27ms/step - loss: 0.4468 - categorical_accuracy: 0.9884 - val_loss: 1.1599 - val_categorical_accuracy: 0.6895\n",
            "Epoch 44/100\n",
            "34/36 [===========================>..] - ETA: 0s - loss: 0.4272 - categorical_accuracy: 0.9910\n",
            "Epoch 44: val_categorical_accuracy did not improve from 0.69526\n",
            "36/36 [==============================] - 1s 27ms/step - loss: 0.4284 - categorical_accuracy: 0.9900 - val_loss: 1.2006 - val_categorical_accuracy: 0.6577\n",
            "Epoch 45/100\n",
            "34/36 [===========================>..] - ETA: 0s - loss: 0.6042 - categorical_accuracy: 0.9414\n",
            "Epoch 45: val_categorical_accuracy did not improve from 0.69526\n",
            "36/36 [==============================] - 1s 27ms/step - loss: 0.6010 - categorical_accuracy: 0.9422 - val_loss: 1.2130 - val_categorical_accuracy: 0.6663\n",
            "Epoch 46/100\n",
            "34/36 [===========================>..] - ETA: 0s - loss: 0.5040 - categorical_accuracy: 0.9763\n",
            "Epoch 46: val_categorical_accuracy did not improve from 0.69526\n",
            "36/36 [==============================] - 1s 27ms/step - loss: 0.5019 - categorical_accuracy: 0.9766 - val_loss: 1.2009 - val_categorical_accuracy: 0.6810\n",
            "Epoch 47/100\n",
            "34/36 [===========================>..] - ETA: 0s - loss: 0.4895 - categorical_accuracy: 0.9750\n",
            "Epoch 47: val_categorical_accuracy did not improve from 0.69526\n",
            "36/36 [==============================] - 1s 27ms/step - loss: 0.4887 - categorical_accuracy: 0.9755 - val_loss: 1.1951 - val_categorical_accuracy: 0.6867\n",
            "Epoch 48/100\n",
            "34/36 [===========================>..] - ETA: 0s - loss: 0.5212 - categorical_accuracy: 0.9660\n",
            "Epoch 48: val_categorical_accuracy did not improve from 0.69526\n",
            "36/36 [==============================] - 1s 27ms/step - loss: 0.5215 - categorical_accuracy: 0.9663 - val_loss: 1.1986 - val_categorical_accuracy: 0.6663\n",
            "Epoch 49/100\n",
            "34/36 [===========================>..] - ETA: 0s - loss: 0.4423 - categorical_accuracy: 0.9878\n",
            "Epoch 49: val_categorical_accuracy did not improve from 0.69526\n",
            "36/36 [==============================] - 1s 27ms/step - loss: 0.4421 - categorical_accuracy: 0.9882 - val_loss: 1.2458 - val_categorical_accuracy: 0.6552\n",
            "Epoch 50/100\n",
            "34/36 [===========================>..] - ETA: 0s - loss: 0.4121 - categorical_accuracy: 0.9867\n",
            "Epoch 50: val_categorical_accuracy did not improve from 0.69526\n",
            "36/36 [==============================] - 1s 27ms/step - loss: 0.4108 - categorical_accuracy: 0.9871 - val_loss: 1.1933 - val_categorical_accuracy: 0.6687\n",
            "Epoch 51/100\n",
            "34/36 [===========================>..] - ETA: 0s - loss: 0.3798 - categorical_accuracy: 0.9926\n",
            "Epoch 51: val_categorical_accuracy did not improve from 0.69526\n",
            "36/36 [==============================] - 1s 27ms/step - loss: 0.3803 - categorical_accuracy: 0.9926 - val_loss: 1.1681 - val_categorical_accuracy: 0.6834\n",
            "Epoch 52/100\n",
            "34/36 [===========================>..] - ETA: 0s - loss: 0.4130 - categorical_accuracy: 0.9805\n",
            "Epoch 52: val_categorical_accuracy improved from 0.69526 to 0.70425, saving model to CNN_1D_best_model.h5\n",
            "36/36 [==============================] - 1s 29ms/step - loss: 0.4123 - categorical_accuracy: 0.9804 - val_loss: 1.0903 - val_categorical_accuracy: 0.7042\n",
            "Epoch 53/100\n",
            "34/36 [===========================>..] - ETA: 0s - loss: 0.3933 - categorical_accuracy: 0.9864\n",
            "Epoch 53: val_categorical_accuracy did not improve from 0.70425\n",
            "36/36 [==============================] - 1s 27ms/step - loss: 0.3915 - categorical_accuracy: 0.9866 - val_loss: 1.1163 - val_categorical_accuracy: 0.6989\n",
            "Epoch 54/100\n",
            "34/36 [===========================>..] - ETA: 0s - loss: 0.3323 - categorical_accuracy: 0.9959\n",
            "Epoch 54: val_categorical_accuracy did not improve from 0.70425\n",
            "36/36 [==============================] - 1s 27ms/step - loss: 0.3339 - categorical_accuracy: 0.9955 - val_loss: 1.1430 - val_categorical_accuracy: 0.6993\n",
            "Epoch 55/100\n",
            "34/36 [===========================>..] - ETA: 0s - loss: 0.5780 - categorical_accuracy: 0.9306\n",
            "Epoch 55: val_categorical_accuracy improved from 0.70425 to 0.70915, saving model to CNN_1D_best_model.h5\n",
            "36/36 [==============================] - 1s 29ms/step - loss: 0.5722 - categorical_accuracy: 0.9324 - val_loss: 1.0899 - val_categorical_accuracy: 0.7092\n",
            "Epoch 56/100\n",
            "34/36 [===========================>..] - ETA: 0s - loss: 0.3994 - categorical_accuracy: 0.9910\n",
            "Epoch 56: val_categorical_accuracy did not improve from 0.70915\n",
            "36/36 [==============================] - 1s 27ms/step - loss: 0.3986 - categorical_accuracy: 0.9911 - val_loss: 1.1315 - val_categorical_accuracy: 0.7006\n",
            "Epoch 57/100\n",
            "34/36 [===========================>..] - ETA: 0s - loss: 0.3973 - categorical_accuracy: 0.9890\n",
            "Epoch 57: val_categorical_accuracy did not improve from 0.70915\n",
            "36/36 [==============================] - 1s 27ms/step - loss: 0.3968 - categorical_accuracy: 0.9888 - val_loss: 1.1084 - val_categorical_accuracy: 0.7092\n",
            "Epoch 58/100\n",
            "34/36 [===========================>..] - ETA: 0s - loss: 0.3478 - categorical_accuracy: 0.9956\n",
            "Epoch 58: val_categorical_accuracy did not improve from 0.70915\n",
            "36/36 [==============================] - 1s 27ms/step - loss: 0.3475 - categorical_accuracy: 0.9953 - val_loss: 1.0926 - val_categorical_accuracy: 0.7092\n",
            "Epoch 59/100\n",
            "34/36 [===========================>..] - ETA: 0s - loss: 0.3440 - categorical_accuracy: 0.9952\n",
            "Epoch 59: val_categorical_accuracy did not improve from 0.70915\n",
            "36/36 [==============================] - 1s 27ms/step - loss: 0.3465 - categorical_accuracy: 0.9949 - val_loss: 1.1440 - val_categorical_accuracy: 0.6932\n",
            "Epoch 60/100\n",
            "34/36 [===========================>..] - ETA: 0s - loss: 0.4825 - categorical_accuracy: 0.9694\n",
            "Epoch 60: val_categorical_accuracy improved from 0.70915 to 0.70956, saving model to CNN_1D_best_model.h5\n",
            "36/36 [==============================] - 1s 29ms/step - loss: 0.4790 - categorical_accuracy: 0.9701 - val_loss: 1.1060 - val_categorical_accuracy: 0.7096\n",
            "Epoch 61/100\n",
            "34/36 [===========================>..] - ETA: 0s - loss: 0.4040 - categorical_accuracy: 0.9864\n",
            "Epoch 61: val_categorical_accuracy improved from 0.70956 to 0.72263, saving model to CNN_1D_best_model.h5\n",
            "36/36 [==============================] - 1s 29ms/step - loss: 0.4025 - categorical_accuracy: 0.9866 - val_loss: 1.0612 - val_categorical_accuracy: 0.7226\n",
            "Epoch 62/100\n",
            "34/36 [===========================>..] - ETA: 0s - loss: 0.3629 - categorical_accuracy: 0.9926\n",
            "Epoch 62: val_categorical_accuracy did not improve from 0.72263\n",
            "36/36 [==============================] - 1s 27ms/step - loss: 0.3627 - categorical_accuracy: 0.9929 - val_loss: 1.0748 - val_categorical_accuracy: 0.7177\n",
            "Epoch 63/100\n",
            "34/36 [===========================>..] - ETA: 0s - loss: 0.3198 - categorical_accuracy: 0.9968\n",
            "Epoch 63: val_categorical_accuracy did not improve from 0.72263\n",
            "36/36 [==============================] - 1s 27ms/step - loss: 0.3192 - categorical_accuracy: 0.9969 - val_loss: 1.0521 - val_categorical_accuracy: 0.7218\n",
            "Epoch 64/100\n",
            "34/36 [===========================>..] - ETA: 0s - loss: 0.3139 - categorical_accuracy: 0.9977\n",
            "Epoch 64: val_categorical_accuracy did not improve from 0.72263\n",
            "36/36 [==============================] - 1s 27ms/step - loss: 0.3140 - categorical_accuracy: 0.9973 - val_loss: 1.0755 - val_categorical_accuracy: 0.7108\n",
            "Epoch 65/100\n",
            "34/36 [===========================>..] - ETA: 0s - loss: 0.3520 - categorical_accuracy: 0.9924\n",
            "Epoch 65: val_categorical_accuracy did not improve from 0.72263\n",
            "36/36 [==============================] - 1s 27ms/step - loss: 0.3509 - categorical_accuracy: 0.9924 - val_loss: 1.0914 - val_categorical_accuracy: 0.7112\n",
            "Epoch 66/100\n",
            "34/36 [===========================>..] - ETA: 0s - loss: 0.3295 - categorical_accuracy: 0.9933\n",
            "Epoch 66: val_categorical_accuracy improved from 0.72263 to 0.72672, saving model to CNN_1D_best_model.h5\n",
            "36/36 [==============================] - 1s 29ms/step - loss: 0.3291 - categorical_accuracy: 0.9933 - val_loss: 1.0405 - val_categorical_accuracy: 0.7267\n",
            "Epoch 67/100\n",
            "34/36 [===========================>..] - ETA: 0s - loss: 0.3077 - categorical_accuracy: 0.9947\n",
            "Epoch 67: val_categorical_accuracy did not improve from 0.72672\n",
            "36/36 [==============================] - 1s 27ms/step - loss: 0.3071 - categorical_accuracy: 0.9949 - val_loss: 1.0398 - val_categorical_accuracy: 0.7247\n",
            "Epoch 68/100\n",
            "34/36 [===========================>..] - ETA: 0s - loss: 0.2885 - categorical_accuracy: 0.9982\n",
            "Epoch 68: val_categorical_accuracy did not improve from 0.72672\n",
            "36/36 [==============================] - 1s 27ms/step - loss: 0.2884 - categorical_accuracy: 0.9982 - val_loss: 1.1216 - val_categorical_accuracy: 0.6949\n",
            "Epoch 69/100\n",
            "34/36 [===========================>..] - ETA: 0s - loss: 0.3854 - categorical_accuracy: 0.9818\n",
            "Epoch 69: val_categorical_accuracy did not improve from 0.72672\n",
            "36/36 [==============================] - 1s 27ms/step - loss: 0.3836 - categorical_accuracy: 0.9822 - val_loss: 1.0856 - val_categorical_accuracy: 0.7067\n",
            "Epoch 70/100\n",
            "34/36 [===========================>..] - ETA: 0s - loss: 0.3416 - categorical_accuracy: 0.9931\n",
            "Epoch 70: val_categorical_accuracy did not improve from 0.72672\n",
            "36/36 [==============================] - 1s 27ms/step - loss: 0.3405 - categorical_accuracy: 0.9933 - val_loss: 1.0445 - val_categorical_accuracy: 0.7202\n",
            "Epoch 71/100\n",
            "34/36 [===========================>..] - ETA: 0s - loss: 0.3058 - categorical_accuracy: 0.9933\n",
            "Epoch 71: val_categorical_accuracy did not improve from 0.72672\n",
            "36/36 [==============================] - 1s 27ms/step - loss: 0.3051 - categorical_accuracy: 0.9935 - val_loss: 1.0495 - val_categorical_accuracy: 0.7104\n",
            "Epoch 72/100\n",
            "34/36 [===========================>..] - ETA: 0s - loss: 0.2980 - categorical_accuracy: 0.9977\n",
            "Epoch 72: val_categorical_accuracy did not improve from 0.72672\n",
            "36/36 [==============================] - 1s 27ms/step - loss: 0.2973 - categorical_accuracy: 0.9978 - val_loss: 1.0557 - val_categorical_accuracy: 0.7128\n",
            "Epoch 73/100\n",
            "34/36 [===========================>..] - ETA: 0s - loss: 0.2919 - categorical_accuracy: 0.9961\n",
            "Epoch 73: val_categorical_accuracy did not improve from 0.72672\n",
            "36/36 [==============================] - 1s 26ms/step - loss: 0.2913 - categorical_accuracy: 0.9960 - val_loss: 1.0485 - val_categorical_accuracy: 0.7198\n",
            "Epoch 74/100\n",
            "34/36 [===========================>..] - ETA: 0s - loss: 0.2598 - categorical_accuracy: 0.9979\n",
            "Epoch 74: val_categorical_accuracy did not improve from 0.72672\n",
            "36/36 [==============================] - 1s 27ms/step - loss: 0.2601 - categorical_accuracy: 0.9980 - val_loss: 1.0396 - val_categorical_accuracy: 0.7169\n",
            "Epoch 75/100\n",
            "34/36 [===========================>..] - ETA: 0s - loss: 0.2678 - categorical_accuracy: 0.9984\n",
            "Epoch 75: val_categorical_accuracy did not improve from 0.72672\n",
            "36/36 [==============================] - 1s 27ms/step - loss: 0.2684 - categorical_accuracy: 0.9978 - val_loss: 1.0605 - val_categorical_accuracy: 0.7124\n",
            "Epoch 76/100\n",
            "34/36 [===========================>..] - ETA: 0s - loss: 0.3929 - categorical_accuracy: 0.9786\n",
            "Epoch 76: val_categorical_accuracy did not improve from 0.72672\n",
            "36/36 [==============================] - 1s 27ms/step - loss: 0.3901 - categorical_accuracy: 0.9793 - val_loss: 1.0976 - val_categorical_accuracy: 0.6916\n",
            "Epoch 77/100\n",
            "34/36 [===========================>..] - ETA: 0s - loss: 0.3189 - categorical_accuracy: 0.9881\n",
            "Epoch 77: val_categorical_accuracy did not improve from 0.72672\n",
            "36/36 [==============================] - 1s 27ms/step - loss: 0.3189 - categorical_accuracy: 0.9880 - val_loss: 1.0772 - val_categorical_accuracy: 0.7194\n",
            "Epoch 78/100\n",
            "34/36 [===========================>..] - ETA: 0s - loss: 0.3619 - categorical_accuracy: 0.9844\n",
            "Epoch 78: val_categorical_accuracy did not improve from 0.72672\n",
            "36/36 [==============================] - 1s 27ms/step - loss: 0.3599 - categorical_accuracy: 0.9844 - val_loss: 1.0558 - val_categorical_accuracy: 0.7222\n",
            "Epoch 79/100\n",
            "34/36 [===========================>..] - ETA: 0s - loss: 0.3173 - categorical_accuracy: 0.9936\n",
            "Epoch 79: val_categorical_accuracy did not improve from 0.72672\n",
            "36/36 [==============================] - 1s 27ms/step - loss: 0.3170 - categorical_accuracy: 0.9931 - val_loss: 1.1023 - val_categorical_accuracy: 0.7042\n",
            "Epoch 80/100\n",
            "34/36 [===========================>..] - ETA: 0s - loss: 0.4033 - categorical_accuracy: 0.9731\n",
            "Epoch 80: val_categorical_accuracy did not improve from 0.72672\n",
            "36/36 [==============================] - 1s 27ms/step - loss: 0.4007 - categorical_accuracy: 0.9737 - val_loss: 1.0831 - val_categorical_accuracy: 0.7059\n",
            "Epoch 81/100\n",
            "34/36 [===========================>..] - ETA: 0s - loss: 0.3044 - categorical_accuracy: 0.9952\n",
            "Epoch 81: val_categorical_accuracy did not improve from 0.72672\n",
            "36/36 [==============================] - 1s 27ms/step - loss: 0.3041 - categorical_accuracy: 0.9951 - val_loss: 1.1367 - val_categorical_accuracy: 0.6900\n",
            "Epoch 82/100\n",
            "34/36 [===========================>..] - ETA: 0s - loss: 0.3194 - categorical_accuracy: 0.9899\n",
            "Epoch 82: val_categorical_accuracy did not improve from 0.72672\n",
            "36/36 [==============================] - 1s 27ms/step - loss: 0.3189 - categorical_accuracy: 0.9900 - val_loss: 1.0536 - val_categorical_accuracy: 0.7087\n",
            "Epoch 83/100\n",
            "34/36 [===========================>..] - ETA: 0s - loss: 0.3240 - categorical_accuracy: 0.9913\n",
            "Epoch 83: val_categorical_accuracy did not improve from 0.72672\n",
            "36/36 [==============================] - 1s 27ms/step - loss: 0.3240 - categorical_accuracy: 0.9913 - val_loss: 1.0646 - val_categorical_accuracy: 0.7132\n",
            "Epoch 84/100\n",
            "34/36 [===========================>..] - ETA: 0s - loss: 0.3356 - categorical_accuracy: 0.9876\n",
            "Epoch 84: val_categorical_accuracy did not improve from 0.72672\n",
            "36/36 [==============================] - 1s 27ms/step - loss: 0.3352 - categorical_accuracy: 0.9873 - val_loss: 1.1370 - val_categorical_accuracy: 0.7002\n",
            "Epoch 85/100\n",
            "34/36 [===========================>..] - ETA: 0s - loss: 0.4343 - categorical_accuracy: 0.9706\n",
            "Epoch 85: val_categorical_accuracy did not improve from 0.72672\n",
            "36/36 [==============================] - 1s 27ms/step - loss: 0.4319 - categorical_accuracy: 0.9712 - val_loss: 1.0581 - val_categorical_accuracy: 0.7100\n",
            "Epoch 86/100\n",
            "34/36 [===========================>..] - ETA: 0s - loss: 0.3215 - categorical_accuracy: 0.9924\n",
            "Epoch 86: val_categorical_accuracy did not improve from 0.72672\n",
            "36/36 [==============================] - 1s 27ms/step - loss: 0.3207 - categorical_accuracy: 0.9926 - val_loss: 1.0469 - val_categorical_accuracy: 0.7218\n",
            "Epoch 87/100\n",
            "34/36 [===========================>..] - ETA: 0s - loss: 0.3174 - categorical_accuracy: 0.9917\n",
            "Epoch 87: val_categorical_accuracy did not improve from 0.72672\n",
            "36/36 [==============================] - 1s 27ms/step - loss: 0.3170 - categorical_accuracy: 0.9917 - val_loss: 1.0780 - val_categorical_accuracy: 0.7112\n",
            "Epoch 88/100\n",
            "34/36 [===========================>..] - ETA: 0s - loss: 0.3129 - categorical_accuracy: 0.9903\n",
            "Epoch 88: val_categorical_accuracy improved from 0.72672 to 0.73121, saving model to CNN_1D_best_model.h5\n",
            "36/36 [==============================] - 1s 29ms/step - loss: 0.3118 - categorical_accuracy: 0.9904 - val_loss: 1.0126 - val_categorical_accuracy: 0.7312\n",
            "Epoch 89/100\n",
            "34/36 [===========================>..] - ETA: 0s - loss: 0.2768 - categorical_accuracy: 0.9961\n",
            "Epoch 89: val_categorical_accuracy did not improve from 0.73121\n",
            "36/36 [==============================] - 1s 27ms/step - loss: 0.2766 - categorical_accuracy: 0.9962 - val_loss: 1.0088 - val_categorical_accuracy: 0.7296\n",
            "Epoch 90/100\n",
            "34/36 [===========================>..] - ETA: 0s - loss: 0.2691 - categorical_accuracy: 0.9963\n",
            "Epoch 90: val_categorical_accuracy did not improve from 0.73121\n",
            "36/36 [==============================] - 1s 28ms/step - loss: 0.2696 - categorical_accuracy: 0.9962 - val_loss: 1.0014 - val_categorical_accuracy: 0.7300\n",
            "Epoch 91/100\n",
            "34/36 [===========================>..] - ETA: 0s - loss: 0.3071 - categorical_accuracy: 0.9931\n",
            "Epoch 91: val_categorical_accuracy did not improve from 0.73121\n",
            "36/36 [==============================] - 1s 27ms/step - loss: 0.3074 - categorical_accuracy: 0.9926 - val_loss: 1.1028 - val_categorical_accuracy: 0.6887\n",
            "Epoch 92/100\n",
            "34/36 [===========================>..] - ETA: 0s - loss: 0.4174 - categorical_accuracy: 0.9619\n",
            "Epoch 92: val_categorical_accuracy did not improve from 0.73121\n",
            "36/36 [==============================] - 1s 27ms/step - loss: 0.4139 - categorical_accuracy: 0.9627 - val_loss: 1.1357 - val_categorical_accuracy: 0.6895\n",
            "Epoch 93/100\n",
            "34/36 [===========================>..] - ETA: 0s - loss: 0.3119 - categorical_accuracy: 0.9915\n",
            "Epoch 93: val_categorical_accuracy did not improve from 0.73121\n",
            "36/36 [==============================] - 1s 27ms/step - loss: 0.3115 - categorical_accuracy: 0.9913 - val_loss: 1.0388 - val_categorical_accuracy: 0.7234\n",
            "Epoch 94/100\n",
            "34/36 [===========================>..] - ETA: 0s - loss: 0.2711 - categorical_accuracy: 0.9947\n",
            "Epoch 94: val_categorical_accuracy did not improve from 0.73121\n",
            "36/36 [==============================] - 1s 27ms/step - loss: 0.2707 - categorical_accuracy: 0.9944 - val_loss: 1.0040 - val_categorical_accuracy: 0.7267\n",
            "Epoch 95/100\n",
            "34/36 [===========================>..] - ETA: 0s - loss: 0.3090 - categorical_accuracy: 0.9910\n",
            "Epoch 95: val_categorical_accuracy did not improve from 0.73121\n",
            "36/36 [==============================] - 1s 27ms/step - loss: 0.3085 - categorical_accuracy: 0.9909 - val_loss: 1.0015 - val_categorical_accuracy: 0.7312\n",
            "Epoch 96/100\n",
            "34/36 [===========================>..] - ETA: 0s - loss: 0.3390 - categorical_accuracy: 0.9814\n",
            "Epoch 96: val_categorical_accuracy improved from 0.73121 to 0.73979, saving model to CNN_1D_best_model.h5\n",
            "36/36 [==============================] - 1s 29ms/step - loss: 0.3368 - categorical_accuracy: 0.9819 - val_loss: 0.9636 - val_categorical_accuracy: 0.7398\n",
            "Epoch 97/100\n",
            "34/36 [===========================>..] - ETA: 0s - loss: 0.2617 - categorical_accuracy: 0.9966\n",
            "Epoch 97: val_categorical_accuracy did not improve from 0.73979\n",
            "36/36 [==============================] - 1s 27ms/step - loss: 0.2620 - categorical_accuracy: 0.9964 - val_loss: 1.0023 - val_categorical_accuracy: 0.7328\n",
            "Epoch 98/100\n",
            "34/36 [===========================>..] - ETA: 0s - loss: 0.2817 - categorical_accuracy: 0.9894\n",
            "Epoch 98: val_categorical_accuracy did not improve from 0.73979\n",
            "36/36 [==============================] - 1s 27ms/step - loss: 0.2817 - categorical_accuracy: 0.9888 - val_loss: 1.1098 - val_categorical_accuracy: 0.6908\n",
            "Epoch 99/100\n",
            "34/36 [===========================>..] - ETA: 0s - loss: 0.3164 - categorical_accuracy: 0.9830\n",
            "Epoch 99: val_categorical_accuracy did not improve from 0.73979\n",
            "36/36 [==============================] - 1s 27ms/step - loss: 0.3160 - categorical_accuracy: 0.9830 - val_loss: 1.0378 - val_categorical_accuracy: 0.7206\n",
            "Epoch 100/100\n",
            "34/36 [===========================>..] - ETA: 0s - loss: 0.2983 - categorical_accuracy: 0.9903\n",
            "Epoch 100: val_categorical_accuracy did not improve from 0.73979\n",
            "36/36 [==============================] - 1s 27ms/step - loss: 0.2973 - categorical_accuracy: 0.9902 - val_loss: 1.1453 - val_categorical_accuracy: 0.6900\n",
            "141/141 [==============================] - 1s 4ms/step - loss: 0.1668 - categorical_accuracy: 1.0000\n",
            "77/77 [==============================] - 0s 4ms/step - loss: 0.9636 - categorical_accuracy: 0.7398\n",
            "Train: 1.000, Test: 0.740\n"
          ]
        }
      ],
      "source": [
        "histories, model = train_model(model, X_train, y_train, X_test, y_test,\n",
        "                               save_to = f'{model.name}',\n",
        "                               batch_size=batch_size, epochs = epochs)"
      ]
    },
    {
      "cell_type": "markdown",
      "metadata": {
        "id": "4D2RHqXPPkVn"
      },
      "source": [
        "# Plotting + Report"
      ]
    },
    {
      "cell_type": "code",
      "execution_count": 139,
      "metadata": {
        "colab": {
          "base_uri": "https://localhost:8080/",
          "height": 472
        },
        "id": "2sNQzFVtPnM4",
        "outputId": "39365aef-98a0-4232-a797-d901ecde5d39"
      },
      "outputs": [
        {
          "data": {
            "image/png": "[encoded data removed]",
            "text/plain": [
              "<Figure size 640x480 with 1 Axes>"
            ]
          },
          "metadata": {},
          "output_type": "display_data"
        }
      ],
      "source": [
        "# summarize history for accuracy\n",
        "plt.plot(histories.history['categorical_accuracy'])\n",
        "plt.plot(histories.history['val_categorical_accuracy'])\n",
        "plt.title('model accuracy')\n",
        "plt.ylabel('accuracy')\n",
        "plt.xlabel('epoch')\n",
        "plt.legend(['train', 'test'], loc='upper left')\n",
        "plt.show()"
      ]
    },
    {
      "cell_type": "code",
      "execution_count": 140,
      "metadata": {
        "colab": {
          "base_uri": "https://localhost:8080/",
          "height": 472
        },
        "id": "60IrTBcXPqLp",
        "outputId": "17ca6fa6-226c-42ac-b3bf-3aea90c4b928"
      },
      "outputs": [
        {
          "data": {
            "image/png": "[encoded data removed]",
            "text/plain": [
              "<Figure size 640x480 with 1 Axes>"
            ]
          },
          "metadata": {},
          "output_type": "display_data"
        }
      ],
      "source": [
        "# summarize history for loss\n",
        "plt.clf\n",
        "plt.plot(histories.history['loss'])\n",
        "plt.plot(histories.history['val_loss'])\n",
        "plt.title('model loss')\n",
        "plt.ylabel('loss')\n",
        "plt.xlabel('epoch')\n",
        "plt.legend(['train', 'test'], loc='upper left')\n",
        "plt.show()"
      ]
    },
    {
      "cell_type": "code",
      "execution_count": 141,
      "metadata": {
        "id": "yjKxvZa25NLy"
      },
      "outputs": [],
      "source": [
        "def Statistics(data):\n",
        "  # Classification Report\n",
        "  report = classification_report(data['actual labels'],data['predicted labels'],output_dict=True)\n",
        "  report = pd.DataFrame(report).T\n",
        "  # Confusion matrix\n",
        "  print(\"Confusion matrix is shown below\")\n",
        "  c_matrix=confusion_matrix(data['actual labels'],data['predicted labels'])\n",
        "  FP = c_matrix.sum(axis=0) - np.diag(c_matrix)\n",
        "  FN = c_matrix.sum(axis=1) - np.diag(c_matrix)\n",
        "  TP = np.diag(c_matrix)\n",
        "  TN = c_matrix.sum() - (FP + FN + TP)\n",
        "  FP = FP.astype(float)\n",
        "  FN = FN.astype(float)\n",
        "  TP = TP.astype(float)\n",
        "  TN = TN.astype(float)\n",
        "  # Sensitivity or positive recall\n",
        "  TPR = TP/(TP+FN)\n",
        "  # Specificity or true negative rate or negative recall\n",
        "  TNR = TN/(TN+FP)\n",
        "  accuracy = accuracy_score(data['actual labels'],data['predicted labels'])\n",
        "  TNR = np.append(TNR,[accuracy, TNR.mean(), ((TNR * report['support'][:17]).sum())/(report['support'][:17].sum())])\n",
        "  report['specificity'] = TNR # adding new column specificity\n",
        "  plt.figure(figsize=(40,20))\n",
        "  norm_c_matrix = c_matrix.astype('float') / c_matrix.sum(axis=1)[:, np.newaxis]\n",
        "  sns.heatmap(norm_c_matrix, annot=True,cmap='Blues', fmt='.2f')\n",
        "  #sns.heatmap(c_matrix, annot=True,cmap='Blues', fmt='g')\n",
        "  plt.xlabel('Predicted')\n",
        "  plt.ylabel('Truth')\n",
        "  plt.savefig(\"CapsNet_confusion_mat_{}ms.jpg\".format(int(window_len/2)))\n",
        "  print(\"Balanced_accuracy:{}\".format(balanced_accuracy_score(data['actual labels'],data['predicted labels'])))\n",
        "  return report, c_matrix, norm_c_matrix"
      ]
    },
    {
      "cell_type": "code",
      "execution_count": 142,
      "metadata": {
        "colab": {
          "base_uri": "https://localhost:8080/",
          "height": 448
        },
        "id": "f5nhqDxsQVrx",
        "outputId": "3cd7db29-50e8-46ca-c65f-be1007f1f360"
      },
      "outputs": [
        {
          "name": "stdout",
          "output_type": "stream",
          "text": [
            "77/77 [==============================] - 0s 3ms/step\n",
            "y_test, y_pred: (2448,) (2448,)\n",
            "Confusion matrix is shown below\n",
            "Balanced_accuracy:0.7362033713025384\n"
          ]
        },
        {
          "data": {
            "image/png": "[encoded data removed]",
            "text/plain": [
              "<Figure size 4000x2000 with 2 Axes>"
            ]
          },
          "metadata": {},
          "output_type": "display_data"
        }
      ],
      "source": [
        "# Reports + Confusion Matrix\n",
        "#\n",
        "# If loading model from another directory, set model path\n",
        "# model_path = \"model/directory/\"\n",
        "# model = load_model(os.path.normpath(model_path + model_name))\n",
        "\n",
        "save_to = f'{model.name}'\n",
        "model_name = save_to + '_best_model.h5'\n",
        "model =  load_model(model_name)\n",
        "\n",
        "#y_test = np.array(y_test)\n",
        "y_tested = np.argmax(y_test,axis=1)\n",
        "y_pred = model.predict(X_test, verbose=1)\n",
        "y_pred=np.argmax(y_pred, axis=1)\n",
        "print(\"y_test, y_pred:\", y_tested.shape, y_pred.shape)\n",
        "\n",
        "data = []\n",
        "data.append(y_tested)\n",
        "data.append(y_pred)\n",
        "data = np.vstack(data).T\n",
        "data_df = pd.DataFrame(data, columns = ['actual labels', 'predicted labels'])\n",
        "report, c_matrix, norm_c_matrix = Statistics(data_df)"
      ]
    },
    {
      "cell_type": "code",
      "execution_count": 143,
      "metadata": {
        "colab": {
          "base_uri": "https://localhost:8080/",
          "height": 676
        },
        "id": "YKNlFAUv9SV8",
        "outputId": "38317ab8-bd0f-46bd-ca6b-94ef4a3d175c"
      },
      "outputs": [
        {
          "data": {
            "application/vnd.google.colaboratory.intrinsic+json": {
              "summary": "{\n  \"name\": \"report\",\n  \"rows\": 20,\n  \"fields\": [\n    {\n      \"column\": \"precision\",\n      \"properties\": {\n        \"dtype\": \"number\",\n        \"std\": 0.14029917707005393,\n        \"min\": 0.5157232704402516,\n        \"max\": 1.0,\n        \"num_unique_values\": 20,\n        \"samples\": [\n          0.7620481927710844,\n          0.7397875816993464,\n          0.5157232704402516\n        ],\n        \"semantic_type\": \"\",\n        \"description\": \"\"\n      }\n    },\n    {\n      \"column\": \"recall\",\n      \"properties\": {\n        \"dtype\": \"number\",\n        \"std\": 0.18719798267543275,\n        \"min\": 0.32894736842105265,\n        \"max\": 1.0,\n        \"num_unique_values\": 19,\n        \"samples\": [\n          0.9806201550387597,\n          1.0,\n          0.4689655172413793\n        ],\n        \"semantic_type\": \"\",\n        \"description\": \"\"\n      }\n    },\n    {\n      \"column\": \"f1-score\",\n      \"properties\": {\n        \"dtype\": \"number\",\n        \"std\": 0.14607398616997114,\n        \"min\": 0.40485829959514175,\n        \"max\": 0.9826589595375723,\n        \"num_unique_values\": 20,\n        \"samples\": [\n          0.8576271186440677,\n          0.7397875816993464,\n          0.5256410256410255\n        ],\n        \"semantic_type\": \"\",\n        \"description\": \"\"\n      }\n    },\n    {\n      \"column\": \"support\",\n      \"properties\": {\n        \"dtype\": \"number\",\n        \"std\": 713.4797758326287,\n        \"min\": 0.7397875816993464,\n        \"max\": 2448.0,\n        \"num_unique_values\": 17,\n        \"samples\": [\n          258.0,\n          201.0,\n          85.0\n        ],\n        \"semantic_type\": \"\",\n        \"description\": \"\"\n      }\n    },\n    {\n      \"column\": \"specificity\",\n      \"properties\": {\n        \"dtype\": \"number\",\n        \"std\": 0.05548888152741248,\n        \"min\": 0.7397875816993464,\n        \"max\": 1.0,\n        \"num_unique_values\": 20,\n        \"samples\": [\n          0.9639269406392694,\n          0.7397875816993464,\n          0.9664488017429194\n        ],\n        \"semantic_type\": \"\",\n        \"description\": \"\"\n      }\n    }\n  ]\n}",
              "type": "dataframe",
              "variable_name": "report"
            },
            "text/html": [
              "\n",
              "  <div id=\"df-6d72e41c-2378-486c-84c4-3360222c85cf\" class=\"colab-df-container\">\n",
              "    <div>\n",
              "<style scoped>\n",
              "    .dataframe tbody tr th:only-of-type {\n",
              "        vertical-align: middle;\n",
              "    }\n",
              "\n",
              "    .dataframe tbody tr th {\n",
              "        vertical-align: top;\n",
              "    }\n",
              "\n",
              "    .dataframe thead th {\n",
              "        text-align: right;\n",
              "    }\n",
              "</style>\n",
              "<table border=\"1\" class=\"dataframe\">\n",
              "  <thead>\n",
              "    <tr style=\"text-align: right;\">\n",
              "      <th></th>\n",
              "      <th>precision</th>\n",
              "      <th>recall</th>\n",
              "      <th>f1-score</th>\n",
              "      <th>support</th>\n",
              "      <th>specificity</th>\n",
              "    </tr>\n",
              "  </thead>\n",
              "  <tbody>\n",
              "    <tr>\n",
              "      <th>0</th>\n",
              "      <td>0.762048</td>\n",
              "      <td>0.980620</td>\n",
              "      <td>0.857627</td>\n",
              "      <td>258.000000</td>\n",
              "      <td>0.963927</td>\n",
              "    </tr>\n",
              "    <tr>\n",
              "      <th>1</th>\n",
              "      <td>0.706806</td>\n",
              "      <td>0.671642</td>\n",
              "      <td>0.688776</td>\n",
              "      <td>201.000000</td>\n",
              "      <td>0.975078</td>\n",
              "    </tr>\n",
              "    <tr>\n",
              "      <th>2</th>\n",
              "      <td>0.935484</td>\n",
              "      <td>0.857988</td>\n",
              "      <td>0.895062</td>\n",
              "      <td>169.000000</td>\n",
              "      <td>0.995612</td>\n",
              "    </tr>\n",
              "    <tr>\n",
              "      <th>3</th>\n",
              "      <td>0.765766</td>\n",
              "      <td>0.602837</td>\n",
              "      <td>0.674603</td>\n",
              "      <td>141.000000</td>\n",
              "      <td>0.988730</td>\n",
              "    </tr>\n",
              "    <tr>\n",
              "      <th>4</th>\n",
              "      <td>0.760234</td>\n",
              "      <td>0.970149</td>\n",
              "      <td>0.852459</td>\n",
              "      <td>134.000000</td>\n",
              "      <td>0.982282</td>\n",
              "    </tr>\n",
              "    <tr>\n",
              "      <th>5</th>\n",
              "      <td>0.965909</td>\n",
              "      <td>1.000000</td>\n",
              "      <td>0.982659</td>\n",
              "      <td>85.000000</td>\n",
              "      <td>0.998730</td>\n",
              "    </tr>\n",
              "    <tr>\n",
              "      <th>6</th>\n",
              "      <td>0.962366</td>\n",
              "      <td>0.927461</td>\n",
              "      <td>0.944591</td>\n",
              "      <td>193.000000</td>\n",
              "      <td>0.996896</td>\n",
              "    </tr>\n",
              "    <tr>\n",
              "      <th>7</th>\n",
              "      <td>0.752475</td>\n",
              "      <td>0.800000</td>\n",
              "      <td>0.775510</td>\n",
              "      <td>95.000000</td>\n",
              "      <td>0.989375</td>\n",
              "    </tr>\n",
              "    <tr>\n",
              "      <th>8</th>\n",
              "      <td>0.692913</td>\n",
              "      <td>0.698413</td>\n",
              "      <td>0.695652</td>\n",
              "      <td>126.000000</td>\n",
              "      <td>0.983204</td>\n",
              "    </tr>\n",
              "    <tr>\n",
              "      <th>9</th>\n",
              "      <td>0.821138</td>\n",
              "      <td>0.706294</td>\n",
              "      <td>0.759398</td>\n",
              "      <td>143.000000</td>\n",
              "      <td>0.990456</td>\n",
              "    </tr>\n",
              "    <tr>\n",
              "      <th>10</th>\n",
              "      <td>0.526316</td>\n",
              "      <td>0.328947</td>\n",
              "      <td>0.404858</td>\n",
              "      <td>152.000000</td>\n",
              "      <td>0.980401</td>\n",
              "    </tr>\n",
              "    <tr>\n",
              "      <th>11</th>\n",
              "      <td>0.552846</td>\n",
              "      <td>0.468966</td>\n",
              "      <td>0.507463</td>\n",
              "      <td>145.000000</td>\n",
              "      <td>0.976118</td>\n",
              "    </tr>\n",
              "    <tr>\n",
              "      <th>12</th>\n",
              "      <td>0.627907</td>\n",
              "      <td>0.939130</td>\n",
              "      <td>0.752613</td>\n",
              "      <td>115.000000</td>\n",
              "      <td>0.972568</td>\n",
              "    </tr>\n",
              "    <tr>\n",
              "      <th>13</th>\n",
              "      <td>0.735632</td>\n",
              "      <td>0.477612</td>\n",
              "      <td>0.579186</td>\n",
              "      <td>134.000000</td>\n",
              "      <td>0.990061</td>\n",
              "    </tr>\n",
              "    <tr>\n",
              "      <th>14</th>\n",
              "      <td>1.000000</td>\n",
              "      <td>0.692308</td>\n",
              "      <td>0.818182</td>\n",
              "      <td>78.000000</td>\n",
              "      <td>1.000000</td>\n",
              "    </tr>\n",
              "    <tr>\n",
              "      <th>15</th>\n",
              "      <td>0.515723</td>\n",
              "      <td>0.535948</td>\n",
              "      <td>0.525641</td>\n",
              "      <td>153.000000</td>\n",
              "      <td>0.966449</td>\n",
              "    </tr>\n",
              "    <tr>\n",
              "      <th>16</th>\n",
              "      <td>0.624277</td>\n",
              "      <td>0.857143</td>\n",
              "      <td>0.722408</td>\n",
              "      <td>126.000000</td>\n",
              "      <td>0.972007</td>\n",
              "    </tr>\n",
              "    <tr>\n",
              "      <th>accuracy</th>\n",
              "      <td>0.739788</td>\n",
              "      <td>0.739788</td>\n",
              "      <td>0.739788</td>\n",
              "      <td>0.739788</td>\n",
              "      <td>0.739788</td>\n",
              "    </tr>\n",
              "    <tr>\n",
              "      <th>macro avg</th>\n",
              "      <td>0.747520</td>\n",
              "      <td>0.736203</td>\n",
              "      <td>0.731570</td>\n",
              "      <td>2448.000000</td>\n",
              "      <td>0.983641</td>\n",
              "    </tr>\n",
              "    <tr>\n",
              "      <th>weighted avg</th>\n",
              "      <td>0.742313</td>\n",
              "      <td>0.739788</td>\n",
              "      <td>0.731464</td>\n",
              "      <td>2448.000000</td>\n",
              "      <td>0.982105</td>\n",
              "    </tr>\n",
              "  </tbody>\n",
              "</table>\n",
              "</div>\n",
              "    <div class=\"colab-df-buttons\">\n",
              "\n",
              "  <div class=\"colab-df-container\">\n",
              "    <button class=\"colab-df-convert\" onclick=\"convertToInteractive('df-6d72e41c-2378-486c-84c4-3360222c85cf')\"\n",
              "            title=\"Convert this dataframe to an interactive table.\"\n",
              "            style=\"display:none;\">\n",
              "\n",
              "  <svg xmlns=\"http://www.w3.org/2000/svg\" height=\"24px\" viewBox=\"0 -960 960 960\">\n",
              "    <path d=\"M120-120v-720h720v720H120Zm60-500h600v-160H180v160Zm220 220h160v-160H400v160Zm0 220h160v-160H400v160ZM180-400h160v-160H180v160Zm440 0h160v-160H620v160ZM180-180h160v-160H180v160Zm440 0h160v-160H620v160Z\"/>\n",
              "  </svg>\n",
              "    </button>\n",
              "\n",
              "  <style>\n",
              "    .colab-df-container {\n",
              "      display:flex;\n",
              "      gap: 12px;\n",
              "    }\n",
              "\n",
              "    .colab-df-convert {\n",
              "      background-color: #E8F0FE;\n",
              "      border: none;\n",
              "      border-radius: 50%;\n",
              "      cursor: pointer;\n",
              "      display: none;\n",
              "      fill: #1967D2;\n",
              "      height: 32px;\n",
              "      padding: 0 0 0 0;\n",
              "      width: 32px;\n",
              "    }\n",
              "\n",
              "    .colab-df-convert:hover {\n",
              "      background-color: #E2EBFA;\n",
              "      box-shadow: 0px 1px 2px rgba(60, 64, 67, 0.3), 0px 1px 3px 1px rgba(60, 64, 67, 0.15);\n",
              "      fill: #174EA6;\n",
              "    }\n",
              "\n",
              "    .colab-df-buttons div {\n",
              "      margin-bottom: 4px;\n",
              "    }\n",
              "\n",
              "    [theme=dark] .colab-df-convert {\n",
              "      background-color: #3B4455;\n",
              "      fill: #D2E3FC;\n",
              "    }\n",
              "\n",
              "    [theme=dark] .colab-df-convert:hover {\n",
              "      background-color: #434B5C;\n",
              "      box-shadow: 0px 1px 3px 1px rgba(0, 0, 0, 0.15);\n",
              "      filter: drop-shadow(0px 1px 2px rgba(0, 0, 0, 0.3));\n",
              "      fill: #FFFFFF;\n",
              "    }\n",
              "  </style>\n",
              "\n",
              "    <script>\n",
              "      const buttonEl =\n",
              "        document.querySelector('#df-6d72e41c-2378-486c-84c4-3360222c85cf button.colab-df-convert');\n",
              "      buttonEl.style.display =\n",
              "        google.colab.kernel.accessAllowed ? 'block' : 'none';\n",
              "\n",
              "      async function convertToInteractive(key) {\n",
              "        const element = document.querySelector('#df-6d72e41c-2378-486c-84c4-3360222c85cf');\n",
              "        const dataTable =\n",
              "          await google.colab.kernel.invokeFunction('convertToInteractive',\n",
              "                                                    [key], {});\n",
              "        if (!dataTable) return;\n",
              "\n",
              "        const docLinkHtml = 'Like what you see? Visit the ' +\n",
              "          '<a target=\"_blank\" href=https://colab.research.google.com/notebooks/data_table.ipynb>data table notebook</a>'\n",
              "          + ' to learn more about interactive tables.';\n",
              "        element.innerHTML = '';\n",
              "        dataTable['output_type'] = 'display_data';\n",
              "        await google.colab.output.renderOutput(dataTable, element);\n",
              "        const docLink = document.createElement('div');\n",
              "        docLink.innerHTML = docLinkHtml;\n",
              "        element.appendChild(docLink);\n",
              "      }\n",
              "    </script>\n",
              "  </div>\n",
              "\n",
              "\n",
              "<div id=\"df-9736439c-bd4a-4811-9724-781cbc0087f0\">\n",
              "  <button class=\"colab-df-quickchart\" onclick=\"quickchart('df-9736439c-bd4a-4811-9724-781cbc0087f0')\"\n",
              "            title=\"Suggest charts\"\n",
              "            style=\"display:none;\">\n",
              "\n",
              "<svg xmlns=\"http://www.w3.org/2000/svg\" height=\"24px\"viewBox=\"0 0 24 24\"\n",
              "     width=\"24px\">\n",
              "    <g>\n",
              "        <path d=\"M19 3H5c-1.1 0-2 .9-2 2v14c0 1.1.9 2 2 2h14c1.1 0 2-.9 2-2V5c0-1.1-.9-2-2-2zM9 17H7v-7h2v7zm4 0h-2V7h2v10zm4 0h-2v-4h2v4z\"/>\n",
              "    </g>\n",
              "</svg>\n",
              "  </button>\n",
              "\n",
              "<style>\n",
              "  .colab-df-quickchart {\n",
              "      --bg-color: #E8F0FE;\n",
              "      --fill-color: #1967D2;\n",
              "      --hover-bg-color: #E2EBFA;\n",
              "      --hover-fill-color: #174EA6;\n",
              "      --disabled-fill-color: #AAA;\n",
              "      --disabled-bg-color: #DDD;\n",
              "  }\n",
              "\n",
              "  [theme=dark] .colab-df-quickchart {\n",
              "      --bg-color: #3B4455;\n",
              "      --fill-color: #D2E3FC;\n",
              "      --hover-bg-color: #434B5C;\n",
              "      --hover-fill-color: #FFFFFF;\n",
              "      --disabled-bg-color: #3B4455;\n",
              "      --disabled-fill-color: #666;\n",
              "  }\n",
              "\n",
              "  .colab-df-quickchart {\n",
              "    background-color: var(--bg-color);\n",
              "    border: none;\n",
              "    border-radius: 50%;\n",
              "    cursor: pointer;\n",
              "    display: none;\n",
              "    fill: var(--fill-color);\n",
              "    height: 32px;\n",
              "    padding: 0;\n",
              "    width: 32px;\n",
              "  }\n",
              "\n",
              "  .colab-df-quickchart:hover {\n",
              "    background-color: var(--hover-bg-color);\n",
              "    box-shadow: 0 1px 2px rgba(60, 64, 67, 0.3), 0 1px 3px 1px rgba(60, 64, 67, 0.15);\n",
              "    fill: var(--button-hover-fill-color);\n",
              "  }\n",
              "\n",
              "  .colab-df-quickchart-complete:disabled,\n",
              "  .colab-df-quickchart-complete:disabled:hover {\n",
              "    background-color: var(--disabled-bg-color);\n",
              "    fill: var(--disabled-fill-color);\n",
              "    box-shadow: none;\n",
              "  }\n",
              "\n",
              "  .colab-df-spinner {\n",
              "    border: 2px solid var(--fill-color);\n",
              "    border-color: transparent;\n",
              "    border-bottom-color: var(--fill-color);\n",
              "    animation:\n",
              "      spin 1s steps(1) infinite;\n",
              "  }\n",
              "\n",
              "  @keyframes spin {\n",
              "    0% {\n",
              "      border-color: transparent;\n",
              "      border-bottom-color: var(--fill-color);\n",
              "      border-left-color: var(--fill-color);\n",
              "    }\n",
              "    20% {\n",
              "      border-color: transparent;\n",
              "      border-left-color: var(--fill-color);\n",
              "      border-top-color: var(--fill-color);\n",
              "    }\n",
              "    30% {\n",
              "      border-color: transparent;\n",
              "      border-left-color: var(--fill-color);\n",
              "      border-top-color: var(--fill-color);\n",
              "      border-right-color: var(--fill-color);\n",
              "    }\n",
              "    40% {\n",
              "      border-color: transparent;\n",
              "      border-right-color: var(--fill-color);\n",
              "      border-top-color: var(--fill-color);\n",
              "    }\n",
              "    60% {\n",
              "      border-color: transparent;\n",
              "      border-right-color: var(--fill-color);\n",
              "    }\n",
              "    80% {\n",
              "      border-color: transparent;\n",
              "      border-right-color: var(--fill-color);\n",
              "      border-bottom-color: var(--fill-color);\n",
              "    }\n",
              "    90% {\n",
              "      border-color: transparent;\n",
              "      border-bottom-color: var(--fill-color);\n",
              "    }\n",
              "  }\n",
              "</style>\n",
              "\n",
              "  <script>\n",
              "    async function quickchart(key) {\n",
              "      const quickchartButtonEl =\n",
              "        document.querySelector('#' + key + ' button');\n",
              "      quickchartButtonEl.disabled = true;  // To prevent multiple clicks.\n",
              "      quickchartButtonEl.classList.add('colab-df-spinner');\n",
              "      try {\n",
              "        const charts = await google.colab.kernel.invokeFunction(\n",
              "            'suggestCharts', [key], {});\n",
              "      } catch (error) {\n",
              "        console.error('Error during call to suggestCharts:', error);\n",
              "      }\n",
              "      quickchartButtonEl.classList.remove('colab-df-spinner');\n",
              "      quickchartButtonEl.classList.add('colab-df-quickchart-complete');\n",
              "    }\n",
              "    (() => {\n",
              "      let quickchartButtonEl =\n",
              "        document.querySelector('#df-9736439c-bd4a-4811-9724-781cbc0087f0 button');\n",
              "      quickchartButtonEl.style.display =\n",
              "        google.colab.kernel.accessAllowed ? 'block' : 'none';\n",
              "    })();\n",
              "  </script>\n",
              "</div>\n",
              "    </div>\n",
              "  </div>\n"
            ],
            "text/plain": [
              "              precision    recall  f1-score      support  specificity\n",
              "0              0.762048  0.980620  0.857627   258.000000     0.963927\n",
              "1              0.706806  0.671642  0.688776   201.000000     0.975078\n",
              "2              0.935484  0.857988  0.895062   169.000000     0.995612\n",
              "3              0.765766  0.602837  0.674603   141.000000     0.988730\n",
              "4              0.760234  0.970149  0.852459   134.000000     0.982282\n",
              "5              0.965909  1.000000  0.982659    85.000000     0.998730\n",
              "6              0.962366  0.927461  0.944591   193.000000     0.996896\n",
              "7              0.752475  0.800000  0.775510    95.000000     0.989375\n",
              "8              0.692913  0.698413  0.695652   126.000000     0.983204\n",
              "9              0.821138  0.706294  0.759398   143.000000     0.990456\n",
              "10             0.526316  0.328947  0.404858   152.000000     0.980401\n",
              "11             0.552846  0.468966  0.507463   145.000000     0.976118\n",
              "12             0.627907  0.939130  0.752613   115.000000     0.972568\n",
              "13             0.735632  0.477612  0.579186   134.000000     0.990061\n",
              "14             1.000000  0.692308  0.818182    78.000000     1.000000\n",
              "15             0.515723  0.535948  0.525641   153.000000     0.966449\n",
              "16             0.624277  0.857143  0.722408   126.000000     0.972007\n",
              "accuracy       0.739788  0.739788  0.739788     0.739788     0.739788\n",
              "macro avg      0.747520  0.736203  0.731570  2448.000000     0.983641\n",
              "weighted avg   0.742313  0.739788  0.731464  2448.000000     0.982105"
            ]
          },
          "execution_count": 143,
          "metadata": {},
          "output_type": "execute_result"
        }
      ],
      "source": [
        "report"
      ]
    },
    {
      "cell_type": "code",
      "execution_count": 38,
      "metadata": {
        "id": "ToZQn31I9S-V"
      },
      "outputs": [],
      "source": []
    }
  ],
  "metadata": {
    "accelerator": "GPU",
    "colab": {
      "gpuType": "T4",
      "machine_shape": "hm",
      "provenance": [],
      "toc_visible": true
    },
    "kernelspec": {
      "display_name": "Python 3",
      "name": "python3"
    },
    "language_info": {
      "name": "python"
    }
  },
  "nbformat": 4,
  "nbformat_minor": 0
}
